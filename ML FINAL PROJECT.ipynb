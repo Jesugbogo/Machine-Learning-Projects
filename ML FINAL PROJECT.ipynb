{
 "cells": [
  {
   "cell_type": "markdown",
   "id": "cf27f03a",
   "metadata": {},
   "source": [
    "## Goal of the Poject\n",
    "\n",
    "In this project, we’ll use time-series forecasting to forecast store sales on data from **Corporación Favorita**, a large Ecuadorian-based grocery retailer.\n",
    "\n",
    "Specifically, we'll build a model that more accurately predicts the unit sales for thousands of items sold at different **Favorita stores**. We'll practice machine learning skills with an approachable training dataset of dates, store, and item information, promotions, and unit sales."
   ]
  },
  {
   "cell_type": "markdown",
   "id": "0ef73a11",
   "metadata": {},
   "source": [
    "### Context\n",
    "\n",
    "Forecasts are especially relevant to brick-and-mortar grocery stores, which must dance delicately with how much inventory to buy. Predict a little over, and grocers are stuck with overstocked, perishable goods. Guess a little under, and popular items quickly sell out, leading to lost revenue and upset customers. More accurate forecasting, thanks to machine learning, could help ensure retailers please customers by having just enough of the right products at the right time.\n",
    "\n",
    "Current subjective forecasting methods for retail have little data to back them up and are unlikely to be automated. The problem becomes even more complex as retailers add new locations with unique needs, new products, ever-transitioning seasonal tastes, and unpredictable product marketing.\n",
    "\n"
   ]
  },
  {
   "cell_type": "markdown",
   "id": "0c3e8e49",
   "metadata": {},
   "source": [
    "### Dataset Description\n",
    "- We will predict sales for the thousands of product families sold at Favorita stores located in Ecuador. The training data includes dates, store and product information, whether that item was being promoted, as well as the sales numbers. Additional files include supplementary information that may be useful in building your models.\n",
    "\n",
    "#### File Descriptions and Data Field Information\n",
    "\n",
    "##### train.csv\n",
    "\n",
    "- The training data, comprising time series of features **store_nbr**, **family**, and **onpromotion** as well as the target sales.\n",
    "- **store_nbr** identifies the store at which the products are sold.\n",
    "- **family** identifies the type of product sold.\n",
    "- **sales** gives the total sales for a product family at a particular store at a given date. Fractional values are possible since products can be sold in fractional units (1.5 kg of cheese, for instance, as opposed to 1 bag of chips).\n",
    "- **onpromotion** gives the total number of items in a product family that were being promoted at a store at a given date.\n",
    "\n",
    "##### test.csv\n",
    "\n",
    "- The test data, having the same features as the training data. You will predict the target **sales** for the dates in this file.\n",
    "- The dates in the test data are for the 15 days after the last date in the training data.\n",
    "\n",
    "##### sample_submission.csv\n",
    "- A sample submission file in the correct format.\n",
    "\n",
    "##### stores.csv\n",
    "- Store metadata, including **city**, **state**, **type, and **cluster**.\n",
    "- **cluster** is a grouping of similar stores.\n",
    "\n",
    "##### oil.csv\n",
    "- Daily oil price. Includes values during both the train and test data timeframes. (Ecuador is an oil-dependent country and it's economical health is highly vulnerable to shocks in oil prices.)\n",
    "\n",
    "##### holidays_events.csv\n",
    "- Holidays and Events, with metadata\n",
    "- NOTE: Pay special attention to the **transferred column**. A holiday that is transferred officially falls on that calendar day, but was moved to another date by the government. A transferred day is more like a normal day than a holiday. To find the day that it was actually celebrated, look for the corresponding row where type is Transfer. For example, the holiday Independencia de Guayaquil was transferred from 2012-10-09 to 2012-10-12, which means it was celebrated on 2012-10-12. Days that are type Bridge are extra days that are added to a holiday (e.g., to extend the break across a long weekend). These are frequently made up by the type Work Day which is a day not normally scheduled for work (e.g., Saturday) that is meant to payback the Bridge.\n",
    "- Additional holidays are days added a regular calendar holiday, for example, as typically happens around Christmas (making Christmas Eve a holiday).\n",
    "\n",
    "##### Additional Notes\n",
    "- Wages in the public sector are paid every two weeks on the 15 th and on the last day of the month. Supermarket sales could be affected by this.\n",
    "- A magnitude 7.8 earthquake struck Ecuador on April 16, 2016. People rallied in relief efforts donating water and other first need products which greatly affected supermarket sales for several weeks after the earthquake."
   ]
  },
  {
   "cell_type": "markdown",
   "id": "8b4fbe8e",
   "metadata": {},
   "source": [
    "## FIRST, EDA\n",
    "- Here, we explore our data."
   ]
  },
  {
   "cell_type": "code",
   "execution_count": 1,
   "id": "479e3561",
   "metadata": {},
   "outputs": [],
   "source": [
    "#importing libraries\n",
    "import pandas as pd\n",
    "import numpy as np\n",
    "import matplotlib.pyplot as plt\n",
    "import seaborn as sns\n",
    "from datetime import datetime\n",
    "\n",
    "%matplotlib inline"
   ]
  },
  {
   "cell_type": "code",
   "execution_count": 2,
   "id": "70539d96",
   "metadata": {},
   "outputs": [
    {
     "data": {
      "text/html": [
       "<div>\n",
       "<style scoped>\n",
       "    .dataframe tbody tr th:only-of-type {\n",
       "        vertical-align: middle;\n",
       "    }\n",
       "\n",
       "    .dataframe tbody tr th {\n",
       "        vertical-align: top;\n",
       "    }\n",
       "\n",
       "    .dataframe thead th {\n",
       "        text-align: right;\n",
       "    }\n",
       "</style>\n",
       "<table border=\"1\" class=\"dataframe\">\n",
       "  <thead>\n",
       "    <tr style=\"text-align: right;\">\n",
       "      <th></th>\n",
       "      <th>id</th>\n",
       "      <th>date</th>\n",
       "      <th>store_nbr</th>\n",
       "      <th>family</th>\n",
       "      <th>sales</th>\n",
       "      <th>onpromotion</th>\n",
       "    </tr>\n",
       "  </thead>\n",
       "  <tbody>\n",
       "    <tr>\n",
       "      <th>0</th>\n",
       "      <td>0</td>\n",
       "      <td>2013-01-01</td>\n",
       "      <td>1</td>\n",
       "      <td>AUTOMOTIVE</td>\n",
       "      <td>0.000</td>\n",
       "      <td>0</td>\n",
       "    </tr>\n",
       "    <tr>\n",
       "      <th>1</th>\n",
       "      <td>1</td>\n",
       "      <td>2013-01-01</td>\n",
       "      <td>1</td>\n",
       "      <td>BABY CARE</td>\n",
       "      <td>0.000</td>\n",
       "      <td>0</td>\n",
       "    </tr>\n",
       "    <tr>\n",
       "      <th>2</th>\n",
       "      <td>2</td>\n",
       "      <td>2013-01-01</td>\n",
       "      <td>1</td>\n",
       "      <td>BEAUTY</td>\n",
       "      <td>0.000</td>\n",
       "      <td>0</td>\n",
       "    </tr>\n",
       "    <tr>\n",
       "      <th>3</th>\n",
       "      <td>3</td>\n",
       "      <td>2013-01-01</td>\n",
       "      <td>1</td>\n",
       "      <td>BEVERAGES</td>\n",
       "      <td>0.000</td>\n",
       "      <td>0</td>\n",
       "    </tr>\n",
       "    <tr>\n",
       "      <th>4</th>\n",
       "      <td>4</td>\n",
       "      <td>2013-01-01</td>\n",
       "      <td>1</td>\n",
       "      <td>BOOKS</td>\n",
       "      <td>0.000</td>\n",
       "      <td>0</td>\n",
       "    </tr>\n",
       "    <tr>\n",
       "      <th>...</th>\n",
       "      <td>...</td>\n",
       "      <td>...</td>\n",
       "      <td>...</td>\n",
       "      <td>...</td>\n",
       "      <td>...</td>\n",
       "      <td>...</td>\n",
       "    </tr>\n",
       "    <tr>\n",
       "      <th>3000883</th>\n",
       "      <td>3000883</td>\n",
       "      <td>2017-08-15</td>\n",
       "      <td>9</td>\n",
       "      <td>POULTRY</td>\n",
       "      <td>438.133</td>\n",
       "      <td>0</td>\n",
       "    </tr>\n",
       "    <tr>\n",
       "      <th>3000884</th>\n",
       "      <td>3000884</td>\n",
       "      <td>2017-08-15</td>\n",
       "      <td>9</td>\n",
       "      <td>PREPARED FOODS</td>\n",
       "      <td>154.553</td>\n",
       "      <td>1</td>\n",
       "    </tr>\n",
       "    <tr>\n",
       "      <th>3000885</th>\n",
       "      <td>3000885</td>\n",
       "      <td>2017-08-15</td>\n",
       "      <td>9</td>\n",
       "      <td>PRODUCE</td>\n",
       "      <td>2419.729</td>\n",
       "      <td>148</td>\n",
       "    </tr>\n",
       "    <tr>\n",
       "      <th>3000886</th>\n",
       "      <td>3000886</td>\n",
       "      <td>2017-08-15</td>\n",
       "      <td>9</td>\n",
       "      <td>SCHOOL AND OFFICE SUPPLIES</td>\n",
       "      <td>121.000</td>\n",
       "      <td>8</td>\n",
       "    </tr>\n",
       "    <tr>\n",
       "      <th>3000887</th>\n",
       "      <td>3000887</td>\n",
       "      <td>2017-08-15</td>\n",
       "      <td>9</td>\n",
       "      <td>SEAFOOD</td>\n",
       "      <td>16.000</td>\n",
       "      <td>0</td>\n",
       "    </tr>\n",
       "  </tbody>\n",
       "</table>\n",
       "<p>3000888 rows × 6 columns</p>\n",
       "</div>"
      ],
      "text/plain": [
       "              id        date  store_nbr                      family     sales  \\\n",
       "0              0  2013-01-01          1                  AUTOMOTIVE     0.000   \n",
       "1              1  2013-01-01          1                   BABY CARE     0.000   \n",
       "2              2  2013-01-01          1                      BEAUTY     0.000   \n",
       "3              3  2013-01-01          1                   BEVERAGES     0.000   \n",
       "4              4  2013-01-01          1                       BOOKS     0.000   \n",
       "...          ...         ...        ...                         ...       ...   \n",
       "3000883  3000883  2017-08-15          9                     POULTRY   438.133   \n",
       "3000884  3000884  2017-08-15          9              PREPARED FOODS   154.553   \n",
       "3000885  3000885  2017-08-15          9                     PRODUCE  2419.729   \n",
       "3000886  3000886  2017-08-15          9  SCHOOL AND OFFICE SUPPLIES   121.000   \n",
       "3000887  3000887  2017-08-15          9                     SEAFOOD    16.000   \n",
       "\n",
       "         onpromotion  \n",
       "0                  0  \n",
       "1                  0  \n",
       "2                  0  \n",
       "3                  0  \n",
       "4                  0  \n",
       "...              ...  \n",
       "3000883            0  \n",
       "3000884            1  \n",
       "3000885          148  \n",
       "3000886            8  \n",
       "3000887            0  \n",
       "\n",
       "[3000888 rows x 6 columns]"
      ]
     },
     "execution_count": 2,
     "metadata": {},
     "output_type": "execute_result"
    }
   ],
   "source": [
    "#reading dataset\n",
    "path = '/Users/apple/Downloads/train.csv'\n",
    "df = pd.read_csv(path)\n",
    "df"
   ]
  },
  {
   "cell_type": "code",
   "execution_count": 3,
   "id": "8d27fa03",
   "metadata": {
    "scrolled": true
   },
   "outputs": [],
   "source": [
    "#path = '/Users/apple/Downloads/sample_submission.csv'\n",
    "#submission = pd.read_csv(path)\n",
    "#submission"
   ]
  },
  {
   "cell_type": "code",
   "execution_count": 4,
   "id": "92360fe5",
   "metadata": {},
   "outputs": [
    {
     "name": "stdout",
     "output_type": "stream",
     "text": [
      "<class 'pandas.core.frame.DataFrame'>\n",
      "RangeIndex: 3000888 entries, 0 to 3000887\n",
      "Data columns (total 6 columns):\n",
      " #   Column       Dtype  \n",
      "---  ------       -----  \n",
      " 0   id           int64  \n",
      " 1   date         object \n",
      " 2   store_nbr    int64  \n",
      " 3   family       object \n",
      " 4   sales        float64\n",
      " 5   onpromotion  int64  \n",
      "dtypes: float64(1), int64(3), object(2)\n",
      "memory usage: 137.4+ MB\n"
     ]
    }
   ],
   "source": [
    "#details of datset\n",
    "df.info()"
   ]
  },
  {
   "cell_type": "code",
   "execution_count": 5,
   "id": "5073b179",
   "metadata": {},
   "outputs": [
    {
     "data": {
      "text/html": [
       "<div>\n",
       "<style scoped>\n",
       "    .dataframe tbody tr th:only-of-type {\n",
       "        vertical-align: middle;\n",
       "    }\n",
       "\n",
       "    .dataframe tbody tr th {\n",
       "        vertical-align: top;\n",
       "    }\n",
       "\n",
       "    .dataframe thead th {\n",
       "        text-align: right;\n",
       "    }\n",
       "</style>\n",
       "<table border=\"1\" class=\"dataframe\">\n",
       "  <thead>\n",
       "    <tr style=\"text-align: right;\">\n",
       "      <th></th>\n",
       "      <th>id</th>\n",
       "      <th>store_nbr</th>\n",
       "      <th>sales</th>\n",
       "      <th>onpromotion</th>\n",
       "    </tr>\n",
       "  </thead>\n",
       "  <tbody>\n",
       "    <tr>\n",
       "      <th>count</th>\n",
       "      <td>3.000888e+06</td>\n",
       "      <td>3.000888e+06</td>\n",
       "      <td>3.000888e+06</td>\n",
       "      <td>3.000888e+06</td>\n",
       "    </tr>\n",
       "    <tr>\n",
       "      <th>mean</th>\n",
       "      <td>1.500444e+06</td>\n",
       "      <td>2.750000e+01</td>\n",
       "      <td>3.577757e+02</td>\n",
       "      <td>2.602770e+00</td>\n",
       "    </tr>\n",
       "    <tr>\n",
       "      <th>std</th>\n",
       "      <td>8.662819e+05</td>\n",
       "      <td>1.558579e+01</td>\n",
       "      <td>1.101998e+03</td>\n",
       "      <td>1.221888e+01</td>\n",
       "    </tr>\n",
       "    <tr>\n",
       "      <th>min</th>\n",
       "      <td>0.000000e+00</td>\n",
       "      <td>1.000000e+00</td>\n",
       "      <td>0.000000e+00</td>\n",
       "      <td>0.000000e+00</td>\n",
       "    </tr>\n",
       "    <tr>\n",
       "      <th>25%</th>\n",
       "      <td>7.502218e+05</td>\n",
       "      <td>1.400000e+01</td>\n",
       "      <td>0.000000e+00</td>\n",
       "      <td>0.000000e+00</td>\n",
       "    </tr>\n",
       "    <tr>\n",
       "      <th>50%</th>\n",
       "      <td>1.500444e+06</td>\n",
       "      <td>2.750000e+01</td>\n",
       "      <td>1.100000e+01</td>\n",
       "      <td>0.000000e+00</td>\n",
       "    </tr>\n",
       "    <tr>\n",
       "      <th>75%</th>\n",
       "      <td>2.250665e+06</td>\n",
       "      <td>4.100000e+01</td>\n",
       "      <td>1.958473e+02</td>\n",
       "      <td>0.000000e+00</td>\n",
       "    </tr>\n",
       "    <tr>\n",
       "      <th>max</th>\n",
       "      <td>3.000887e+06</td>\n",
       "      <td>5.400000e+01</td>\n",
       "      <td>1.247170e+05</td>\n",
       "      <td>7.410000e+02</td>\n",
       "    </tr>\n",
       "  </tbody>\n",
       "</table>\n",
       "</div>"
      ],
      "text/plain": [
       "                 id     store_nbr         sales   onpromotion\n",
       "count  3.000888e+06  3.000888e+06  3.000888e+06  3.000888e+06\n",
       "mean   1.500444e+06  2.750000e+01  3.577757e+02  2.602770e+00\n",
       "std    8.662819e+05  1.558579e+01  1.101998e+03  1.221888e+01\n",
       "min    0.000000e+00  1.000000e+00  0.000000e+00  0.000000e+00\n",
       "25%    7.502218e+05  1.400000e+01  0.000000e+00  0.000000e+00\n",
       "50%    1.500444e+06  2.750000e+01  1.100000e+01  0.000000e+00\n",
       "75%    2.250665e+06  4.100000e+01  1.958473e+02  0.000000e+00\n",
       "max    3.000887e+06  5.400000e+01  1.247170e+05  7.410000e+02"
      ]
     },
     "execution_count": 5,
     "metadata": {},
     "output_type": "execute_result"
    }
   ],
   "source": [
    "#dataset description\n",
    "df.describe()"
   ]
  },
  {
   "cell_type": "code",
   "execution_count": 6,
   "id": "2b82e7fe",
   "metadata": {},
   "outputs": [],
   "source": [
    "#convert date dtype from object to datetime\n",
    "df['date'] = pd.to_datetime(df['date'])"
   ]
  },
  {
   "cell_type": "code",
   "execution_count": 7,
   "id": "1a441a07",
   "metadata": {},
   "outputs": [
    {
     "data": {
      "text/html": [
       "<div>\n",
       "<style scoped>\n",
       "    .dataframe tbody tr th:only-of-type {\n",
       "        vertical-align: middle;\n",
       "    }\n",
       "\n",
       "    .dataframe tbody tr th {\n",
       "        vertical-align: top;\n",
       "    }\n",
       "\n",
       "    .dataframe thead th {\n",
       "        text-align: right;\n",
       "    }\n",
       "</style>\n",
       "<table border=\"1\" class=\"dataframe\">\n",
       "  <thead>\n",
       "    <tr style=\"text-align: right;\">\n",
       "      <th></th>\n",
       "      <th>id</th>\n",
       "      <th>date</th>\n",
       "      <th>store_nbr</th>\n",
       "      <th>family</th>\n",
       "      <th>sales</th>\n",
       "      <th>onpromotion</th>\n",
       "      <th>Year</th>\n",
       "      <th>Month</th>\n",
       "      <th>Day</th>\n",
       "    </tr>\n",
       "  </thead>\n",
       "  <tbody>\n",
       "    <tr>\n",
       "      <th>0</th>\n",
       "      <td>0</td>\n",
       "      <td>2013-01-01</td>\n",
       "      <td>1</td>\n",
       "      <td>AUTOMOTIVE</td>\n",
       "      <td>0.0</td>\n",
       "      <td>0</td>\n",
       "      <td>2013</td>\n",
       "      <td>1</td>\n",
       "      <td>1</td>\n",
       "    </tr>\n",
       "    <tr>\n",
       "      <th>1</th>\n",
       "      <td>1</td>\n",
       "      <td>2013-01-01</td>\n",
       "      <td>1</td>\n",
       "      <td>BABY CARE</td>\n",
       "      <td>0.0</td>\n",
       "      <td>0</td>\n",
       "      <td>2013</td>\n",
       "      <td>1</td>\n",
       "      <td>1</td>\n",
       "    </tr>\n",
       "    <tr>\n",
       "      <th>2</th>\n",
       "      <td>2</td>\n",
       "      <td>2013-01-01</td>\n",
       "      <td>1</td>\n",
       "      <td>BEAUTY</td>\n",
       "      <td>0.0</td>\n",
       "      <td>0</td>\n",
       "      <td>2013</td>\n",
       "      <td>1</td>\n",
       "      <td>1</td>\n",
       "    </tr>\n",
       "    <tr>\n",
       "      <th>3</th>\n",
       "      <td>3</td>\n",
       "      <td>2013-01-01</td>\n",
       "      <td>1</td>\n",
       "      <td>BEVERAGES</td>\n",
       "      <td>0.0</td>\n",
       "      <td>0</td>\n",
       "      <td>2013</td>\n",
       "      <td>1</td>\n",
       "      <td>1</td>\n",
       "    </tr>\n",
       "    <tr>\n",
       "      <th>4</th>\n",
       "      <td>4</td>\n",
       "      <td>2013-01-01</td>\n",
       "      <td>1</td>\n",
       "      <td>BOOKS</td>\n",
       "      <td>0.0</td>\n",
       "      <td>0</td>\n",
       "      <td>2013</td>\n",
       "      <td>1</td>\n",
       "      <td>1</td>\n",
       "    </tr>\n",
       "  </tbody>\n",
       "</table>\n",
       "</div>"
      ],
      "text/plain": [
       "   id       date  store_nbr      family  sales  onpromotion  Year  Month  Day\n",
       "0   0 2013-01-01          1  AUTOMOTIVE    0.0            0  2013      1    1\n",
       "1   1 2013-01-01          1   BABY CARE    0.0            0  2013      1    1\n",
       "2   2 2013-01-01          1      BEAUTY    0.0            0  2013      1    1\n",
       "3   3 2013-01-01          1   BEVERAGES    0.0            0  2013      1    1\n",
       "4   4 2013-01-01          1       BOOKS    0.0            0  2013      1    1"
      ]
     },
     "execution_count": 7,
     "metadata": {},
     "output_type": "execute_result"
    }
   ],
   "source": [
    "#extracting year,month and day from date\n",
    "df['Year'] = df['date'].dt.year\n",
    "df['Month']= df['date'].dt.month\n",
    "df['Day']= df['date'].dt.day\n",
    "df.head()"
   ]
  },
  {
   "cell_type": "code",
   "execution_count": 8,
   "id": "ee6b4c07",
   "metadata": {},
   "outputs": [],
   "source": [
    "#checking to see how it works for time\n",
    "#df['date'].dt.second"
   ]
  },
  {
   "cell_type": "code",
   "execution_count": 9,
   "id": "79e394ef",
   "metadata": {},
   "outputs": [
    {
     "name": "stdout",
     "output_type": "stream",
     "text": [
      "<class 'pandas.core.frame.DataFrame'>\n",
      "RangeIndex: 3000888 entries, 0 to 3000887\n",
      "Data columns (total 9 columns):\n",
      " #   Column       Dtype         \n",
      "---  ------       -----         \n",
      " 0   id           int64         \n",
      " 1   date         datetime64[ns]\n",
      " 2   store_nbr    int64         \n",
      " 3   family       object        \n",
      " 4   sales        float64       \n",
      " 5   onpromotion  int64         \n",
      " 6   Year         int64         \n",
      " 7   Month        int64         \n",
      " 8   Day          int64         \n",
      "dtypes: datetime64[ns](1), float64(1), int64(6), object(1)\n",
      "memory usage: 206.1+ MB\n"
     ]
    }
   ],
   "source": [
    "#checking to see the effect of the above code\n",
    "df.info()"
   ]
  },
  {
   "cell_type": "code",
   "execution_count": 10,
   "id": "7a8def0f",
   "metadata": {},
   "outputs": [],
   "source": [
    "#creating a function that prints out the unique values and its length of any column given to it\n",
    "def col_details(x):\n",
    "    print ('This column has {} unique values\\n'.format(len(x.unique())))\n",
    "    print('The unique values are: \\n',x.unique())\n",
    "    print('\\nThere are {} null values in this column\\n'.format(x.isnull().sum()))\n",
    "    print('The count for each unique value is:\\n', x.value_counts())"
   ]
  },
  {
   "cell_type": "markdown",
   "id": "8b0d81f8",
   "metadata": {},
   "source": [
    "- WE USE THE ABOVE FUNCTION TO CHECK DETAILS FOR ALL COLUMNS"
   ]
  },
  {
   "cell_type": "code",
   "execution_count": 11,
   "id": "acbb32cf",
   "metadata": {},
   "outputs": [
    {
     "data": {
      "text/plain": [
       "Index(['id', 'date', 'store_nbr', 'family', 'sales', 'onpromotion', 'Year',\n",
       "       'Month', 'Day'],\n",
       "      dtype='object')"
      ]
     },
     "execution_count": 11,
     "metadata": {},
     "output_type": "execute_result"
    }
   ],
   "source": [
    "#calling out columns\n",
    "df.columns"
   ]
  },
  {
   "cell_type": "code",
   "execution_count": 12,
   "id": "2f047bcf",
   "metadata": {},
   "outputs": [
    {
     "name": "stdout",
     "output_type": "stream",
     "text": [
      "This column has 3000888 unique values\n",
      "\n",
      "The unique values are: \n",
      " [      0       1       2 ... 3000885 3000886 3000887]\n",
      "\n",
      "There are 0 null values in this column\n",
      "\n",
      "The count for each unique value is:\n",
      " 0          1\n",
      "2000584    1\n",
      "2000586    1\n",
      "2000587    1\n",
      "2000588    1\n",
      "          ..\n",
      "1000298    1\n",
      "1000299    1\n",
      "1000300    1\n",
      "1000301    1\n",
      "3000887    1\n",
      "Name: id, Length: 3000888, dtype: int64\n"
     ]
    }
   ],
   "source": [
    "#using our function to collect details on column 'id'\n",
    "col_details(df.id)"
   ]
  },
  {
   "cell_type": "code",
   "execution_count": 13,
   "id": "d7610624",
   "metadata": {},
   "outputs": [
    {
     "name": "stdout",
     "output_type": "stream",
     "text": [
      "This column has 1684 unique values\n",
      "\n",
      "The unique values are: \n",
      " ['2013-01-01T00:00:00.000000000' '2013-01-02T00:00:00.000000000'\n",
      " '2013-01-03T00:00:00.000000000' ... '2017-08-13T00:00:00.000000000'\n",
      " '2017-08-14T00:00:00.000000000' '2017-08-15T00:00:00.000000000']\n",
      "\n",
      "There are 0 null values in this column\n",
      "\n",
      "The count for each unique value is:\n",
      " 2013-01-01    1782\n",
      "2016-01-15    1782\n",
      "2016-02-08    1782\n",
      "2016-02-07    1782\n",
      "2016-02-06    1782\n",
      "              ... \n",
      "2014-07-13    1782\n",
      "2014-07-12    1782\n",
      "2014-07-11    1782\n",
      "2014-07-10    1782\n",
      "2017-08-15    1782\n",
      "Name: date, Length: 1684, dtype: int64\n"
     ]
    }
   ],
   "source": [
    "col_details(df.date)"
   ]
  },
  {
   "cell_type": "code",
   "execution_count": 14,
   "id": "b436efdf",
   "metadata": {},
   "outputs": [
    {
     "data": {
      "text/plain": [
       "[2013, 2014, 2015, 2016, 2017]"
      ]
     },
     "execution_count": 14,
     "metadata": {},
     "output_type": "execute_result"
    }
   ],
   "source": [
    "#checking for the number of years\n",
    "list(df.Year.unique())"
   ]
  },
  {
   "cell_type": "code",
   "execution_count": 15,
   "id": "66b29375",
   "metadata": {},
   "outputs": [
    {
     "name": "stdout",
     "output_type": "stream",
     "text": [
      "This column has 54 unique values\n",
      "\n",
      "The unique values are: \n",
      " [ 1 10 11 12 13 14 15 16 17 18 19  2 20 21 22 23 24 25 26 27 28 29  3 30\n",
      " 31 32 33 34 35 36 37 38 39  4 40 41 42 43 44 45 46 47 48 49  5 50 51 52\n",
      " 53 54  6  7  8  9]\n",
      "\n",
      "There are 0 null values in this column\n",
      "\n",
      "The count for each unique value is:\n",
      " 1     55572\n",
      "46    55572\n",
      "36    55572\n",
      "37    55572\n",
      "38    55572\n",
      "39    55572\n",
      "4     55572\n",
      "40    55572\n",
      "41    55572\n",
      "42    55572\n",
      "43    55572\n",
      "44    55572\n",
      "45    55572\n",
      "47    55572\n",
      "10    55572\n",
      "48    55572\n",
      "49    55572\n",
      "5     55572\n",
      "50    55572\n",
      "51    55572\n",
      "52    55572\n",
      "53    55572\n",
      "54    55572\n",
      "6     55572\n",
      "7     55572\n",
      "8     55572\n",
      "35    55572\n",
      "34    55572\n",
      "33    55572\n",
      "32    55572\n",
      "11    55572\n",
      "12    55572\n",
      "13    55572\n",
      "14    55572\n",
      "15    55572\n",
      "16    55572\n",
      "17    55572\n",
      "18    55572\n",
      "19    55572\n",
      "2     55572\n",
      "20    55572\n",
      "21    55572\n",
      "22    55572\n",
      "23    55572\n",
      "24    55572\n",
      "25    55572\n",
      "26    55572\n",
      "27    55572\n",
      "28    55572\n",
      "29    55572\n",
      "3     55572\n",
      "30    55572\n",
      "31    55572\n",
      "9     55572\n",
      "Name: store_nbr, dtype: int64\n"
     ]
    }
   ],
   "source": [
    "#details of 'store_nbr' column\n",
    "col_details(df.store_nbr)"
   ]
  },
  {
   "cell_type": "code",
   "execution_count": 16,
   "id": "f82a5698",
   "metadata": {},
   "outputs": [
    {
     "name": "stdout",
     "output_type": "stream",
     "text": [
      "This column has 33 unique values\n",
      "\n",
      "The unique values are: \n",
      " ['AUTOMOTIVE' 'BABY CARE' 'BEAUTY' 'BEVERAGES' 'BOOKS' 'BREAD/BAKERY'\n",
      " 'CELEBRATION' 'CLEANING' 'DAIRY' 'DELI' 'EGGS' 'FROZEN FOODS' 'GROCERY I'\n",
      " 'GROCERY II' 'HARDWARE' 'HOME AND KITCHEN I' 'HOME AND KITCHEN II'\n",
      " 'HOME APPLIANCES' 'HOME CARE' 'LADIESWEAR' 'LAWN AND GARDEN' 'LINGERIE'\n",
      " 'LIQUOR,WINE,BEER' 'MAGAZINES' 'MEATS' 'PERSONAL CARE' 'PET SUPPLIES'\n",
      " 'PLAYERS AND ELECTRONICS' 'POULTRY' 'PREPARED FOODS' 'PRODUCE'\n",
      " 'SCHOOL AND OFFICE SUPPLIES' 'SEAFOOD']\n",
      "\n",
      "There are 0 null values in this column\n",
      "\n",
      "The count for each unique value is:\n",
      " AUTOMOTIVE                    90936\n",
      "HOME APPLIANCES               90936\n",
      "SCHOOL AND OFFICE SUPPLIES    90936\n",
      "PRODUCE                       90936\n",
      "PREPARED FOODS                90936\n",
      "POULTRY                       90936\n",
      "PLAYERS AND ELECTRONICS       90936\n",
      "PET SUPPLIES                  90936\n",
      "PERSONAL CARE                 90936\n",
      "MEATS                         90936\n",
      "MAGAZINES                     90936\n",
      "LIQUOR,WINE,BEER              90936\n",
      "LINGERIE                      90936\n",
      "LAWN AND GARDEN               90936\n",
      "LADIESWEAR                    90936\n",
      "HOME CARE                     90936\n",
      "HOME AND KITCHEN II           90936\n",
      "BABY CARE                     90936\n",
      "HOME AND KITCHEN I            90936\n",
      "HARDWARE                      90936\n",
      "GROCERY II                    90936\n",
      "GROCERY I                     90936\n",
      "FROZEN FOODS                  90936\n",
      "EGGS                          90936\n",
      "DELI                          90936\n",
      "DAIRY                         90936\n",
      "CLEANING                      90936\n",
      "CELEBRATION                   90936\n",
      "BREAD/BAKERY                  90936\n",
      "BOOKS                         90936\n",
      "BEVERAGES                     90936\n",
      "BEAUTY                        90936\n",
      "SEAFOOD                       90936\n",
      "Name: family, dtype: int64\n"
     ]
    }
   ],
   "source": [
    "col_details(df.family)"
   ]
  },
  {
   "cell_type": "code",
   "execution_count": 17,
   "id": "84bd2121",
   "metadata": {},
   "outputs": [
    {
     "name": "stdout",
     "output_type": "stream",
     "text": [
      "This column has 362 unique values\n",
      "\n",
      "The unique values are: \n",
      " [  0   3   5   1  56  20  19   2   4  18  17  12   6   7  10   9  50   8\n",
      "  16  42  51  13  15  47  21  40  37  54  24  58  22  59  11  45  25  55\n",
      "  26  43  35  14  28  46  36  32  53  57  27  39  41  30  29  49  23  48\n",
      "  44  38  31  52  33  34  61  60 116  86  73 113 102  68 104  93  70  92\n",
      " 121  72 178 174 161 118 105 172 163 167 142 154 133 180 181 173 165 168\n",
      " 186 140 149 145 169 188  62  84 111  65 107  63 101  87 125  94 114 171\n",
      " 153 170 166 141 155 179 192 131 147 151 189  79  74 110  64  67  99 123\n",
      " 157 117 150 182 162 160 194 135 190  69 108  89 126 156 103 146 132 177\n",
      " 164 176 112  75 109  91 128 175 187 148 137 184 196 144 158 119 106  66\n",
      " 100  90 120 115  98 159 152 185 139 143  80 124  71 134 193  78  88 122\n",
      " 130  81  97 138 191  76  96 198  82  95 195 183 199 200 201 197  77  83\n",
      " 136 205 204 202 129 206  85 209 211 207 208 203 210 127 213 212 218 216\n",
      " 217 214 222 220 223 229 225 228 224 231 215 233 230 235 227 221 226 219\n",
      " 289 245 609 261 322 276 710 511 326 281 718 551 304 639 489 299 243 630\n",
      " 476 655 446 286 633 435 302 644 470 332 259 702 520 300 241 668 510 237\n",
      " 626 507 317 624 474 240 672 306 600 383 293 258 646 444 333 279 717 342\n",
      " 720 547 305 642 452 313 252 664 481 277 307 264 684 479 255 657 441 312\n",
      " 269 716 528 320 285 726 536 283 628 469 464 677 420 247 629 424 290 473\n",
      " 294 722 485 297 282 719 543 253 254 678 496 275 741 512 236 234 244 239\n",
      " 238 242 232 249 250 251 391 539 411 486 407 330 697 246 467 263 591 248\n",
      " 519 425]\n",
      "\n",
      "There are 0 null values in this column\n",
      "\n",
      "The count for each unique value is:\n",
      " 0      2389559\n",
      "1       174551\n",
      "2        79386\n",
      "3        45862\n",
      "4        31659\n",
      "        ...   \n",
      "313          1\n",
      "452          1\n",
      "642          1\n",
      "305          1\n",
      "425          1\n",
      "Name: onpromotion, Length: 362, dtype: int64\n"
     ]
    }
   ],
   "source": [
    "col_details(df.onpromotion)"
   ]
  },
  {
   "cell_type": "code",
   "execution_count": 18,
   "id": "d00235de",
   "metadata": {
    "scrolled": false
   },
   "outputs": [
    {
     "name": "stdout",
     "output_type": "stream",
     "text": [
      "This column has 379610 unique values\n",
      "\n",
      "The unique values are: \n",
      " [0.000000e+00 2.000000e+00 8.100000e+02 ... 4.381330e+02 1.545530e+02\n",
      " 2.419729e+03]\n",
      "\n",
      "There are 0 null values in this column\n",
      "\n",
      "The count for each unique value is:\n",
      " 0.000       939130\n",
      "1.000       115291\n",
      "2.000        85959\n",
      "3.000        68575\n",
      "4.000        57846\n",
      "             ...  \n",
      "116.541          1\n",
      "363.533          1\n",
      "141.322          1\n",
      "409.879          1\n",
      "2419.729         1\n",
      "Name: sales, Length: 379610, dtype: int64\n"
     ]
    }
   ],
   "source": [
    "col_details(df.sales)"
   ]
  },
  {
   "cell_type": "markdown",
   "id": "e6c16cc5",
   "metadata": {},
   "source": [
    "- DATA IS CLEAN"
   ]
  },
  {
   "cell_type": "code",
   "execution_count": 19,
   "id": "93dfc4c0",
   "metadata": {},
   "outputs": [],
   "source": [
    "#visiualizing relationships between columns in the dataset\n",
    "#sns.pairplot(df)"
   ]
  },
  {
   "cell_type": "code",
   "execution_count": 20,
   "id": "b6f133d2",
   "metadata": {
    "scrolled": true
   },
   "outputs": [
    {
     "data": {
      "text/html": [
       "<div>\n",
       "<style scoped>\n",
       "    .dataframe tbody tr th:only-of-type {\n",
       "        vertical-align: middle;\n",
       "    }\n",
       "\n",
       "    .dataframe tbody tr th {\n",
       "        vertical-align: top;\n",
       "    }\n",
       "\n",
       "    .dataframe thead th {\n",
       "        text-align: right;\n",
       "    }\n",
       "</style>\n",
       "<table border=\"1\" class=\"dataframe\">\n",
       "  <thead>\n",
       "    <tr style=\"text-align: right;\">\n",
       "      <th></th>\n",
       "      <th>id</th>\n",
       "      <th>store_nbr</th>\n",
       "      <th>sales</th>\n",
       "      <th>onpromotion</th>\n",
       "      <th>Year</th>\n",
       "      <th>Month</th>\n",
       "      <th>Day</th>\n",
       "    </tr>\n",
       "  </thead>\n",
       "  <tbody>\n",
       "    <tr>\n",
       "      <th>id</th>\n",
       "      <td>1.000000</td>\n",
       "      <td>3.013308e-04</td>\n",
       "      <td>0.085784</td>\n",
       "      <td>0.206260</td>\n",
       "      <td>9.776028e-01</td>\n",
       "      <td>6.743357e-02</td>\n",
       "      <td>5.915116e-03</td>\n",
       "    </tr>\n",
       "    <tr>\n",
       "      <th>store_nbr</th>\n",
       "      <td>0.000301</td>\n",
       "      <td>1.000000e+00</td>\n",
       "      <td>0.041196</td>\n",
       "      <td>0.007286</td>\n",
       "      <td>8.754910e-15</td>\n",
       "      <td>-4.946280e-15</td>\n",
       "      <td>-2.656089e-16</td>\n",
       "    </tr>\n",
       "    <tr>\n",
       "      <th>sales</th>\n",
       "      <td>0.085784</td>\n",
       "      <td>4.119605e-02</td>\n",
       "      <td>1.000000</td>\n",
       "      <td>0.427923</td>\n",
       "      <td>8.109275e-02</td>\n",
       "      <td>1.978967e-02</td>\n",
       "      <td>-1.188702e-02</td>\n",
       "    </tr>\n",
       "    <tr>\n",
       "      <th>onpromotion</th>\n",
       "      <td>0.206260</td>\n",
       "      <td>7.285647e-03</td>\n",
       "      <td>0.427923</td>\n",
       "      <td>1.000000</td>\n",
       "      <td>1.990601e-01</td>\n",
       "      <td>2.588107e-02</td>\n",
       "      <td>2.207588e-03</td>\n",
       "    </tr>\n",
       "    <tr>\n",
       "      <th>Year</th>\n",
       "      <td>0.977603</td>\n",
       "      <td>8.754910e-15</td>\n",
       "      <td>0.081093</td>\n",
       "      <td>0.199060</td>\n",
       "      <td>1.000000e+00</td>\n",
       "      <td>-1.432929e-01</td>\n",
       "      <td>-1.254521e-02</td>\n",
       "    </tr>\n",
       "    <tr>\n",
       "      <th>Month</th>\n",
       "      <td>0.067434</td>\n",
       "      <td>-4.946280e-15</td>\n",
       "      <td>0.019790</td>\n",
       "      <td>0.025881</td>\n",
       "      <td>-1.432929e-01</td>\n",
       "      <td>1.000000e+00</td>\n",
       "      <td>2.622160e-03</td>\n",
       "    </tr>\n",
       "    <tr>\n",
       "      <th>Day</th>\n",
       "      <td>0.005915</td>\n",
       "      <td>-2.656089e-16</td>\n",
       "      <td>-0.011887</td>\n",
       "      <td>0.002208</td>\n",
       "      <td>-1.254521e-02</td>\n",
       "      <td>2.622160e-03</td>\n",
       "      <td>1.000000e+00</td>\n",
       "    </tr>\n",
       "  </tbody>\n",
       "</table>\n",
       "</div>"
      ],
      "text/plain": [
       "                   id     store_nbr     sales  onpromotion          Year  \\\n",
       "id           1.000000  3.013308e-04  0.085784     0.206260  9.776028e-01   \n",
       "store_nbr    0.000301  1.000000e+00  0.041196     0.007286  8.754910e-15   \n",
       "sales        0.085784  4.119605e-02  1.000000     0.427923  8.109275e-02   \n",
       "onpromotion  0.206260  7.285647e-03  0.427923     1.000000  1.990601e-01   \n",
       "Year         0.977603  8.754910e-15  0.081093     0.199060  1.000000e+00   \n",
       "Month        0.067434 -4.946280e-15  0.019790     0.025881 -1.432929e-01   \n",
       "Day          0.005915 -2.656089e-16 -0.011887     0.002208 -1.254521e-02   \n",
       "\n",
       "                    Month           Day  \n",
       "id           6.743357e-02  5.915116e-03  \n",
       "store_nbr   -4.946280e-15 -2.656089e-16  \n",
       "sales        1.978967e-02 -1.188702e-02  \n",
       "onpromotion  2.588107e-02  2.207588e-03  \n",
       "Year        -1.432929e-01 -1.254521e-02  \n",
       "Month        1.000000e+00  2.622160e-03  \n",
       "Day          2.622160e-03  1.000000e+00  "
      ]
     },
     "execution_count": 20,
     "metadata": {},
     "output_type": "execute_result"
    }
   ],
   "source": [
    "#checking for correlation\n",
    "df.corr()"
   ]
  },
  {
   "cell_type": "markdown",
   "id": "e6f49f9b",
   "metadata": {},
   "source": [
    "- From the catplot and the correlation syntax, we can't see any direct relationship between the \n",
    "  features and the target variable"
   ]
  },
  {
   "cell_type": "code",
   "execution_count": 21,
   "id": "f81d8586",
   "metadata": {},
   "outputs": [],
   "source": [
    "#visualizing an overview of sales over the years in the dataset\n",
    "#plt.figure(figsize = (15,10))\n",
    "#sns.lineplot(data = df, x= 'Year', y = 'sales')\n",
    "#plt.show()"
   ]
  },
  {
   "cell_type": "code",
   "execution_count": 22,
   "id": "1a2623d1",
   "metadata": {
    "scrolled": true
   },
   "outputs": [
    {
     "data": {
      "text/plain": [
       "Index(['id', 'date', 'store_nbr', 'family', 'sales', 'onpromotion', 'Year',\n",
       "       'Month', 'Day'],\n",
       "      dtype='object')"
      ]
     },
     "execution_count": 22,
     "metadata": {},
     "output_type": "execute_result"
    }
   ],
   "source": [
    "df.columns"
   ]
  },
  {
   "cell_type": "code",
   "execution_count": 23,
   "id": "5e862e33",
   "metadata": {
    "scrolled": true
   },
   "outputs": [
    {
     "data": {
      "text/html": [
       "<div>\n",
       "<style scoped>\n",
       "    .dataframe tbody tr th:only-of-type {\n",
       "        vertical-align: middle;\n",
       "    }\n",
       "\n",
       "    .dataframe tbody tr th {\n",
       "        vertical-align: top;\n",
       "    }\n",
       "\n",
       "    .dataframe thead th {\n",
       "        text-align: right;\n",
       "    }\n",
       "</style>\n",
       "<table border=\"1\" class=\"dataframe\">\n",
       "  <thead>\n",
       "    <tr style=\"text-align: right;\">\n",
       "      <th></th>\n",
       "      <th>id</th>\n",
       "      <th>date</th>\n",
       "      <th>store_nbr</th>\n",
       "      <th>family</th>\n",
       "      <th>sales</th>\n",
       "      <th>onpromotion</th>\n",
       "      <th>Year</th>\n",
       "      <th>Month</th>\n",
       "      <th>Day</th>\n",
       "    </tr>\n",
       "  </thead>\n",
       "  <tbody>\n",
       "    <tr>\n",
       "      <th>0</th>\n",
       "      <td>0</td>\n",
       "      <td>2013-01-01</td>\n",
       "      <td>1</td>\n",
       "      <td>AUTOMOTIVE</td>\n",
       "      <td>0.0</td>\n",
       "      <td>0</td>\n",
       "      <td>2013</td>\n",
       "      <td>1</td>\n",
       "      <td>1</td>\n",
       "    </tr>\n",
       "    <tr>\n",
       "      <th>1</th>\n",
       "      <td>1</td>\n",
       "      <td>2013-01-01</td>\n",
       "      <td>1</td>\n",
       "      <td>BABY CARE</td>\n",
       "      <td>0.0</td>\n",
       "      <td>0</td>\n",
       "      <td>2013</td>\n",
       "      <td>1</td>\n",
       "      <td>1</td>\n",
       "    </tr>\n",
       "    <tr>\n",
       "      <th>2</th>\n",
       "      <td>2</td>\n",
       "      <td>2013-01-01</td>\n",
       "      <td>1</td>\n",
       "      <td>BEAUTY</td>\n",
       "      <td>0.0</td>\n",
       "      <td>0</td>\n",
       "      <td>2013</td>\n",
       "      <td>1</td>\n",
       "      <td>1</td>\n",
       "    </tr>\n",
       "    <tr>\n",
       "      <th>3</th>\n",
       "      <td>3</td>\n",
       "      <td>2013-01-01</td>\n",
       "      <td>1</td>\n",
       "      <td>BEVERAGES</td>\n",
       "      <td>0.0</td>\n",
       "      <td>0</td>\n",
       "      <td>2013</td>\n",
       "      <td>1</td>\n",
       "      <td>1</td>\n",
       "    </tr>\n",
       "    <tr>\n",
       "      <th>4</th>\n",
       "      <td>4</td>\n",
       "      <td>2013-01-01</td>\n",
       "      <td>1</td>\n",
       "      <td>BOOKS</td>\n",
       "      <td>0.0</td>\n",
       "      <td>0</td>\n",
       "      <td>2013</td>\n",
       "      <td>1</td>\n",
       "      <td>1</td>\n",
       "    </tr>\n",
       "  </tbody>\n",
       "</table>\n",
       "</div>"
      ],
      "text/plain": [
       "   id       date  store_nbr      family  sales  onpromotion  Year  Month  Day\n",
       "0   0 2013-01-01          1  AUTOMOTIVE    0.0            0  2013      1    1\n",
       "1   1 2013-01-01          1   BABY CARE    0.0            0  2013      1    1\n",
       "2   2 2013-01-01          1      BEAUTY    0.0            0  2013      1    1\n",
       "3   3 2013-01-01          1   BEVERAGES    0.0            0  2013      1    1\n",
       "4   4 2013-01-01          1       BOOKS    0.0            0  2013      1    1"
      ]
     },
     "execution_count": 23,
     "metadata": {},
     "output_type": "execute_result"
    }
   ],
   "source": [
    "df.head()"
   ]
  },
  {
   "cell_type": "code",
   "execution_count": 24,
   "id": "548935ca",
   "metadata": {
    "scrolled": true
   },
   "outputs": [
    {
     "data": {
      "text/html": [
       "<div>\n",
       "<style scoped>\n",
       "    .dataframe tbody tr th:only-of-type {\n",
       "        vertical-align: middle;\n",
       "    }\n",
       "\n",
       "    .dataframe tbody tr th {\n",
       "        vertical-align: top;\n",
       "    }\n",
       "\n",
       "    .dataframe thead th {\n",
       "        text-align: right;\n",
       "    }\n",
       "</style>\n",
       "<table border=\"1\" class=\"dataframe\">\n",
       "  <thead>\n",
       "    <tr style=\"text-align: right;\">\n",
       "      <th></th>\n",
       "      <th>id</th>\n",
       "      <th>date</th>\n",
       "      <th>store_nbr</th>\n",
       "      <th>family</th>\n",
       "      <th>sales</th>\n",
       "      <th>onpromotion</th>\n",
       "      <th>Year</th>\n",
       "      <th>Month</th>\n",
       "      <th>Day</th>\n",
       "    </tr>\n",
       "  </thead>\n",
       "  <tbody>\n",
       "    <tr>\n",
       "      <th>0</th>\n",
       "      <td>0</td>\n",
       "      <td>2013-01-01</td>\n",
       "      <td>1</td>\n",
       "      <td>AUTOMOTIVE</td>\n",
       "      <td>0.0</td>\n",
       "      <td>0</td>\n",
       "      <td>2013</td>\n",
       "      <td>1</td>\n",
       "      <td>1</td>\n",
       "    </tr>\n",
       "    <tr>\n",
       "      <th>1</th>\n",
       "      <td>1</td>\n",
       "      <td>2013-01-01</td>\n",
       "      <td>1</td>\n",
       "      <td>BABY CARE</td>\n",
       "      <td>0.0</td>\n",
       "      <td>0</td>\n",
       "      <td>2013</td>\n",
       "      <td>1</td>\n",
       "      <td>1</td>\n",
       "    </tr>\n",
       "    <tr>\n",
       "      <th>2</th>\n",
       "      <td>2</td>\n",
       "      <td>2013-01-01</td>\n",
       "      <td>1</td>\n",
       "      <td>BEAUTY</td>\n",
       "      <td>0.0</td>\n",
       "      <td>0</td>\n",
       "      <td>2013</td>\n",
       "      <td>1</td>\n",
       "      <td>1</td>\n",
       "    </tr>\n",
       "    <tr>\n",
       "      <th>3</th>\n",
       "      <td>3</td>\n",
       "      <td>2013-01-01</td>\n",
       "      <td>1</td>\n",
       "      <td>BEVERAGES</td>\n",
       "      <td>0.0</td>\n",
       "      <td>0</td>\n",
       "      <td>2013</td>\n",
       "      <td>1</td>\n",
       "      <td>1</td>\n",
       "    </tr>\n",
       "    <tr>\n",
       "      <th>4</th>\n",
       "      <td>4</td>\n",
       "      <td>2013-01-01</td>\n",
       "      <td>1</td>\n",
       "      <td>BOOKS</td>\n",
       "      <td>0.0</td>\n",
       "      <td>0</td>\n",
       "      <td>2013</td>\n",
       "      <td>1</td>\n",
       "      <td>1</td>\n",
       "    </tr>\n",
       "  </tbody>\n",
       "</table>\n",
       "</div>"
      ],
      "text/plain": [
       "   id       date  store_nbr      family  sales  onpromotion  Year  Month  Day\n",
       "0   0 2013-01-01          1  AUTOMOTIVE    0.0            0  2013      1    1\n",
       "1   1 2013-01-01          1   BABY CARE    0.0            0  2013      1    1\n",
       "2   2 2013-01-01          1      BEAUTY    0.0            0  2013      1    1\n",
       "3   3 2013-01-01          1   BEVERAGES    0.0            0  2013      1    1\n",
       "4   4 2013-01-01          1       BOOKS    0.0            0  2013      1    1"
      ]
     },
     "execution_count": 24,
     "metadata": {},
     "output_type": "execute_result"
    }
   ],
   "source": [
    "df1 = df.copy()\n",
    "df1.head()"
   ]
  },
  {
   "cell_type": "code",
   "execution_count": 25,
   "id": "57f39f3f",
   "metadata": {
    "scrolled": true
   },
   "outputs": [
    {
     "data": {
      "text/html": [
       "<div>\n",
       "<style scoped>\n",
       "    .dataframe tbody tr th:only-of-type {\n",
       "        vertical-align: middle;\n",
       "    }\n",
       "\n",
       "    .dataframe tbody tr th {\n",
       "        vertical-align: top;\n",
       "    }\n",
       "\n",
       "    .dataframe thead th {\n",
       "        text-align: right;\n",
       "    }\n",
       "</style>\n",
       "<table border=\"1\" class=\"dataframe\">\n",
       "  <thead>\n",
       "    <tr style=\"text-align: right;\">\n",
       "      <th></th>\n",
       "      <th>id</th>\n",
       "      <th>store_nbr</th>\n",
       "      <th>family</th>\n",
       "      <th>sales</th>\n",
       "      <th>onpromotion</th>\n",
       "      <th>Year</th>\n",
       "      <th>Month</th>\n",
       "      <th>Day</th>\n",
       "    </tr>\n",
       "    <tr>\n",
       "      <th>date</th>\n",
       "      <th></th>\n",
       "      <th></th>\n",
       "      <th></th>\n",
       "      <th></th>\n",
       "      <th></th>\n",
       "      <th></th>\n",
       "      <th></th>\n",
       "      <th></th>\n",
       "    </tr>\n",
       "  </thead>\n",
       "  <tbody>\n",
       "    <tr>\n",
       "      <th>2013-01-01</th>\n",
       "      <td>0</td>\n",
       "      <td>1</td>\n",
       "      <td>AUTOMOTIVE</td>\n",
       "      <td>0.0</td>\n",
       "      <td>0</td>\n",
       "      <td>2013</td>\n",
       "      <td>1</td>\n",
       "      <td>1</td>\n",
       "    </tr>\n",
       "    <tr>\n",
       "      <th>2013-01-01</th>\n",
       "      <td>1</td>\n",
       "      <td>1</td>\n",
       "      <td>BABY CARE</td>\n",
       "      <td>0.0</td>\n",
       "      <td>0</td>\n",
       "      <td>2013</td>\n",
       "      <td>1</td>\n",
       "      <td>1</td>\n",
       "    </tr>\n",
       "    <tr>\n",
       "      <th>2013-01-01</th>\n",
       "      <td>2</td>\n",
       "      <td>1</td>\n",
       "      <td>BEAUTY</td>\n",
       "      <td>0.0</td>\n",
       "      <td>0</td>\n",
       "      <td>2013</td>\n",
       "      <td>1</td>\n",
       "      <td>1</td>\n",
       "    </tr>\n",
       "    <tr>\n",
       "      <th>2013-01-01</th>\n",
       "      <td>3</td>\n",
       "      <td>1</td>\n",
       "      <td>BEVERAGES</td>\n",
       "      <td>0.0</td>\n",
       "      <td>0</td>\n",
       "      <td>2013</td>\n",
       "      <td>1</td>\n",
       "      <td>1</td>\n",
       "    </tr>\n",
       "    <tr>\n",
       "      <th>2013-01-01</th>\n",
       "      <td>4</td>\n",
       "      <td>1</td>\n",
       "      <td>BOOKS</td>\n",
       "      <td>0.0</td>\n",
       "      <td>0</td>\n",
       "      <td>2013</td>\n",
       "      <td>1</td>\n",
       "      <td>1</td>\n",
       "    </tr>\n",
       "  </tbody>\n",
       "</table>\n",
       "</div>"
      ],
      "text/plain": [
       "            id  store_nbr      family  sales  onpromotion  Year  Month  Day\n",
       "date                                                                       \n",
       "2013-01-01   0          1  AUTOMOTIVE    0.0            0  2013      1    1\n",
       "2013-01-01   1          1   BABY CARE    0.0            0  2013      1    1\n",
       "2013-01-01   2          1      BEAUTY    0.0            0  2013      1    1\n",
       "2013-01-01   3          1   BEVERAGES    0.0            0  2013      1    1\n",
       "2013-01-01   4          1       BOOKS    0.0            0  2013      1    1"
      ]
     },
     "execution_count": 25,
     "metadata": {},
     "output_type": "execute_result"
    }
   ],
   "source": [
    "df1 = df1.set_index('date')\n",
    "df1.head()"
   ]
  },
  {
   "cell_type": "code",
   "execution_count": 26,
   "id": "0fe8f1e1",
   "metadata": {
    "scrolled": true
   },
   "outputs": [
    {
     "data": {
      "text/plain": [
       "DatetimeIndex(['2013-01-01', '2013-01-01', '2013-01-01', '2013-01-01',\n",
       "               '2013-01-01', '2013-01-01', '2013-01-01', '2013-01-01',\n",
       "               '2013-01-01', '2013-01-01',\n",
       "               ...\n",
       "               '2017-08-15', '2017-08-15', '2017-08-15', '2017-08-15',\n",
       "               '2017-08-15', '2017-08-15', '2017-08-15', '2017-08-15',\n",
       "               '2017-08-15', '2017-08-15'],\n",
       "              dtype='datetime64[ns]', name='date', length=3000888, freq=None)"
      ]
     },
     "execution_count": 26,
     "metadata": {},
     "output_type": "execute_result"
    }
   ],
   "source": [
    "#converting to datetime\n",
    "pd.to_datetime(df1.index)"
   ]
  },
  {
   "cell_type": "code",
   "execution_count": 27,
   "id": "50a1da61",
   "metadata": {},
   "outputs": [
    {
     "data": {
      "text/html": [
       "<div>\n",
       "<style scoped>\n",
       "    .dataframe tbody tr th:only-of-type {\n",
       "        vertical-align: middle;\n",
       "    }\n",
       "\n",
       "    .dataframe tbody tr th {\n",
       "        vertical-align: top;\n",
       "    }\n",
       "\n",
       "    .dataframe thead th {\n",
       "        text-align: right;\n",
       "    }\n",
       "</style>\n",
       "<table border=\"1\" class=\"dataframe\">\n",
       "  <thead>\n",
       "    <tr style=\"text-align: right;\">\n",
       "      <th></th>\n",
       "      <th>sales</th>\n",
       "    </tr>\n",
       "    <tr>\n",
       "      <th>date</th>\n",
       "      <th></th>\n",
       "    </tr>\n",
       "  </thead>\n",
       "  <tbody>\n",
       "    <tr>\n",
       "      <th>2013-01-01</th>\n",
       "      <td>0.000</td>\n",
       "    </tr>\n",
       "    <tr>\n",
       "      <th>2013-01-01</th>\n",
       "      <td>0.000</td>\n",
       "    </tr>\n",
       "    <tr>\n",
       "      <th>2013-01-01</th>\n",
       "      <td>0.000</td>\n",
       "    </tr>\n",
       "    <tr>\n",
       "      <th>2013-01-01</th>\n",
       "      <td>0.000</td>\n",
       "    </tr>\n",
       "    <tr>\n",
       "      <th>2013-01-01</th>\n",
       "      <td>0.000</td>\n",
       "    </tr>\n",
       "    <tr>\n",
       "      <th>...</th>\n",
       "      <td>...</td>\n",
       "    </tr>\n",
       "    <tr>\n",
       "      <th>2017-08-15</th>\n",
       "      <td>438.133</td>\n",
       "    </tr>\n",
       "    <tr>\n",
       "      <th>2017-08-15</th>\n",
       "      <td>154.553</td>\n",
       "    </tr>\n",
       "    <tr>\n",
       "      <th>2017-08-15</th>\n",
       "      <td>2419.729</td>\n",
       "    </tr>\n",
       "    <tr>\n",
       "      <th>2017-08-15</th>\n",
       "      <td>121.000</td>\n",
       "    </tr>\n",
       "    <tr>\n",
       "      <th>2017-08-15</th>\n",
       "      <td>16.000</td>\n",
       "    </tr>\n",
       "  </tbody>\n",
       "</table>\n",
       "<p>3000888 rows × 1 columns</p>\n",
       "</div>"
      ],
      "text/plain": [
       "               sales\n",
       "date                \n",
       "2013-01-01     0.000\n",
       "2013-01-01     0.000\n",
       "2013-01-01     0.000\n",
       "2013-01-01     0.000\n",
       "2013-01-01     0.000\n",
       "...              ...\n",
       "2017-08-15   438.133\n",
       "2017-08-15   154.553\n",
       "2017-08-15  2419.729\n",
       "2017-08-15   121.000\n",
       "2017-08-15    16.000\n",
       "\n",
       "[3000888 rows x 1 columns]"
      ]
     },
     "execution_count": 27,
     "metadata": {},
     "output_type": "execute_result"
    }
   ],
   "source": [
    "#putting the sales and the date in a dataframe\n",
    "df2 = df1.sales.to_frame()\n",
    "df2.index = pd.to_datetime(df2.index)\n",
    "df2"
   ]
  },
  {
   "cell_type": "code",
   "execution_count": 28,
   "id": "433b3416",
   "metadata": {},
   "outputs": [
    {
     "data": {
      "text/html": [
       "<div>\n",
       "<style scoped>\n",
       "    .dataframe tbody tr th:only-of-type {\n",
       "        vertical-align: middle;\n",
       "    }\n",
       "\n",
       "    .dataframe tbody tr th {\n",
       "        vertical-align: top;\n",
       "    }\n",
       "\n",
       "    .dataframe thead th {\n",
       "        text-align: right;\n",
       "    }\n",
       "</style>\n",
       "<table border=\"1\" class=\"dataframe\">\n",
       "  <thead>\n",
       "    <tr style=\"text-align: right;\">\n",
       "      <th></th>\n",
       "      <th>sales</th>\n",
       "    </tr>\n",
       "    <tr>\n",
       "      <th>date</th>\n",
       "      <th></th>\n",
       "    </tr>\n",
       "  </thead>\n",
       "  <tbody>\n",
       "    <tr>\n",
       "      <th>2013-01-01</th>\n",
       "      <td>2511.618999</td>\n",
       "    </tr>\n",
       "    <tr>\n",
       "      <th>2013-01-02</th>\n",
       "      <td>496092.417944</td>\n",
       "    </tr>\n",
       "    <tr>\n",
       "      <th>2013-01-03</th>\n",
       "      <td>361461.231124</td>\n",
       "    </tr>\n",
       "    <tr>\n",
       "      <th>2013-01-04</th>\n",
       "      <td>354459.677093</td>\n",
       "    </tr>\n",
       "    <tr>\n",
       "      <th>2013-01-05</th>\n",
       "      <td>477350.121229</td>\n",
       "    </tr>\n",
       "    <tr>\n",
       "      <th>...</th>\n",
       "      <td>...</td>\n",
       "    </tr>\n",
       "    <tr>\n",
       "      <th>2017-08-11</th>\n",
       "      <td>826373.722022</td>\n",
       "    </tr>\n",
       "    <tr>\n",
       "      <th>2017-08-12</th>\n",
       "      <td>792630.535079</td>\n",
       "    </tr>\n",
       "    <tr>\n",
       "      <th>2017-08-13</th>\n",
       "      <td>865639.677471</td>\n",
       "    </tr>\n",
       "    <tr>\n",
       "      <th>2017-08-14</th>\n",
       "      <td>760922.406081</td>\n",
       "    </tr>\n",
       "    <tr>\n",
       "      <th>2017-08-15</th>\n",
       "      <td>762661.935939</td>\n",
       "    </tr>\n",
       "  </tbody>\n",
       "</table>\n",
       "<p>1684 rows × 1 columns</p>\n",
       "</div>"
      ],
      "text/plain": [
       "                    sales\n",
       "date                     \n",
       "2013-01-01    2511.618999\n",
       "2013-01-02  496092.417944\n",
       "2013-01-03  361461.231124\n",
       "2013-01-04  354459.677093\n",
       "2013-01-05  477350.121229\n",
       "...                   ...\n",
       "2017-08-11  826373.722022\n",
       "2017-08-12  792630.535079\n",
       "2017-08-13  865639.677471\n",
       "2017-08-14  760922.406081\n",
       "2017-08-15  762661.935939\n",
       "\n",
       "[1684 rows x 1 columns]"
      ]
     },
     "execution_count": 28,
     "metadata": {},
     "output_type": "execute_result"
    }
   ],
   "source": [
    "df2 = df2.groupby(by=[df2.index]).sum()\n",
    "df2"
   ]
  },
  {
   "cell_type": "code",
   "execution_count": 29,
   "id": "7167f83a",
   "metadata": {},
   "outputs": [],
   "source": [
    "#converting the index to datetime\n",
    "df2.index = pd.to_datetime(df2.index)\n",
    "df2['Year'] = df2.index.year\n",
    "df2['Month'] = df2.index.month\n",
    "df2['Day'] = df2.index.day"
   ]
  },
  {
   "cell_type": "code",
   "execution_count": 30,
   "id": "a8fa60bd",
   "metadata": {
    "scrolled": false
   },
   "outputs": [
    {
     "data": {
      "text/html": [
       "<div>\n",
       "<style scoped>\n",
       "    .dataframe tbody tr th:only-of-type {\n",
       "        vertical-align: middle;\n",
       "    }\n",
       "\n",
       "    .dataframe tbody tr th {\n",
       "        vertical-align: top;\n",
       "    }\n",
       "\n",
       "    .dataframe thead th {\n",
       "        text-align: right;\n",
       "    }\n",
       "</style>\n",
       "<table border=\"1\" class=\"dataframe\">\n",
       "  <thead>\n",
       "    <tr style=\"text-align: right;\">\n",
       "      <th></th>\n",
       "      <th>sales</th>\n",
       "      <th>Year</th>\n",
       "      <th>Month</th>\n",
       "      <th>Day</th>\n",
       "    </tr>\n",
       "    <tr>\n",
       "      <th>date</th>\n",
       "      <th></th>\n",
       "      <th></th>\n",
       "      <th></th>\n",
       "      <th></th>\n",
       "    </tr>\n",
       "  </thead>\n",
       "  <tbody>\n",
       "    <tr>\n",
       "      <th>2013-01-01</th>\n",
       "      <td>2511.618999</td>\n",
       "      <td>2013</td>\n",
       "      <td>1</td>\n",
       "      <td>1</td>\n",
       "    </tr>\n",
       "    <tr>\n",
       "      <th>2013-01-02</th>\n",
       "      <td>496092.417944</td>\n",
       "      <td>2013</td>\n",
       "      <td>1</td>\n",
       "      <td>2</td>\n",
       "    </tr>\n",
       "    <tr>\n",
       "      <th>2013-01-03</th>\n",
       "      <td>361461.231124</td>\n",
       "      <td>2013</td>\n",
       "      <td>1</td>\n",
       "      <td>3</td>\n",
       "    </tr>\n",
       "    <tr>\n",
       "      <th>2013-01-04</th>\n",
       "      <td>354459.677093</td>\n",
       "      <td>2013</td>\n",
       "      <td>1</td>\n",
       "      <td>4</td>\n",
       "    </tr>\n",
       "    <tr>\n",
       "      <th>2013-01-05</th>\n",
       "      <td>477350.121229</td>\n",
       "      <td>2013</td>\n",
       "      <td>1</td>\n",
       "      <td>5</td>\n",
       "    </tr>\n",
       "    <tr>\n",
       "      <th>...</th>\n",
       "      <td>...</td>\n",
       "      <td>...</td>\n",
       "      <td>...</td>\n",
       "      <td>...</td>\n",
       "    </tr>\n",
       "    <tr>\n",
       "      <th>2017-08-11</th>\n",
       "      <td>826373.722022</td>\n",
       "      <td>2017</td>\n",
       "      <td>8</td>\n",
       "      <td>11</td>\n",
       "    </tr>\n",
       "    <tr>\n",
       "      <th>2017-08-12</th>\n",
       "      <td>792630.535079</td>\n",
       "      <td>2017</td>\n",
       "      <td>8</td>\n",
       "      <td>12</td>\n",
       "    </tr>\n",
       "    <tr>\n",
       "      <th>2017-08-13</th>\n",
       "      <td>865639.677471</td>\n",
       "      <td>2017</td>\n",
       "      <td>8</td>\n",
       "      <td>13</td>\n",
       "    </tr>\n",
       "    <tr>\n",
       "      <th>2017-08-14</th>\n",
       "      <td>760922.406081</td>\n",
       "      <td>2017</td>\n",
       "      <td>8</td>\n",
       "      <td>14</td>\n",
       "    </tr>\n",
       "    <tr>\n",
       "      <th>2017-08-15</th>\n",
       "      <td>762661.935939</td>\n",
       "      <td>2017</td>\n",
       "      <td>8</td>\n",
       "      <td>15</td>\n",
       "    </tr>\n",
       "  </tbody>\n",
       "</table>\n",
       "<p>1684 rows × 4 columns</p>\n",
       "</div>"
      ],
      "text/plain": [
       "                    sales  Year  Month  Day\n",
       "date                                       \n",
       "2013-01-01    2511.618999  2013      1    1\n",
       "2013-01-02  496092.417944  2013      1    2\n",
       "2013-01-03  361461.231124  2013      1    3\n",
       "2013-01-04  354459.677093  2013      1    4\n",
       "2013-01-05  477350.121229  2013      1    5\n",
       "...                   ...   ...    ...  ...\n",
       "2017-08-11  826373.722022  2017      8   11\n",
       "2017-08-12  792630.535079  2017      8   12\n",
       "2017-08-13  865639.677471  2017      8   13\n",
       "2017-08-14  760922.406081  2017      8   14\n",
       "2017-08-15  762661.935939  2017      8   15\n",
       "\n",
       "[1684 rows x 4 columns]"
      ]
     },
     "execution_count": 30,
     "metadata": {},
     "output_type": "execute_result"
    }
   ],
   "source": [
    "df2"
   ]
  },
  {
   "cell_type": "markdown",
   "id": "63ef6c83",
   "metadata": {},
   "source": [
    "##### Visualizing how sales has been over the years"
   ]
  },
  {
   "cell_type": "code",
   "execution_count": 31,
   "id": "45015740",
   "metadata": {},
   "outputs": [
    {
     "data": {
      "text/plain": [
       "<AxesSubplot:xlabel='Month', ylabel='sales'>"
      ]
     },
     "execution_count": 31,
     "metadata": {},
     "output_type": "execute_result"
    },
    {
     "data": {
      "image/png": "[encoded data removed]",
      "text/plain": [
       "<Figure size 720x576 with 1 Axes>"
      ]
     },
     "metadata": {
      "needs_background": "light"
     },
     "output_type": "display_data"
    }
   ],
   "source": [
    "#Visualising each year by month\n",
    "plt.figure(figsize=(10,8))\n",
    "sns.lineplot(x='Month',y='sales',hue='Year',data=df2,ci=None)"
   ]
  },
  {
   "cell_type": "code",
   "execution_count": 32,
   "id": "a5acbc1e",
   "metadata": {
    "scrolled": false
   },
   "outputs": [
    {
     "name": "stderr",
     "output_type": "stream",
     "text": [
      "/opt/anaconda3/lib/python3.9/site-packages/seaborn/categorical.py:3717: UserWarning: The `factorplot` function has been renamed to `catplot`. The original name will be removed in a future release. Please update your code. Note that the default `kind` in `factorplot` (`'point'`) has changed `'strip'` in `catplot`.\n",
      "  warnings.warn(msg)\n"
     ]
    },
    {
     "data": {
      "text/plain": [
       "<seaborn.axisgrid.FacetGrid at 0x7fbb3c17ca00>"
      ]
     },
     "execution_count": 32,
     "metadata": {},
     "output_type": "execute_result"
    },
    {
     "data": {
      "image/png": "[encoded data removed]",
      "text/plain": [
       "<Figure size 360x1800 with 5 Axes>"
      ]
     },
     "metadata": {
      "needs_background": "light"
     },
     "output_type": "display_data"
    }
   ],
   "source": [
    "# Sales trend over the months and year\n",
    "sns.factorplot(data = df2, x =\"Month\", y = \"sales\", row = \"Year\")"
   ]
  },
  {
   "cell_type": "markdown",
   "id": "5620cbfe",
   "metadata": {},
   "source": [
    "- THE LINE PLOT SHOWS HOW ALL THE YEAR'S SALES HAVE BEEN ALTOGETHER WHILE THE FACTOR PLOT GIVES US EACH YEAR'S SALES SEPARATELY.\n",
    "- FROM THE TWO PLOTS, WE CAN INFER THAT SALES TEND TO SPIKE IN DECEMBER(END OF THE YEAR)\n",
    "- THIS MAKES SENSE BECAUSE OF THE CHRISTMAS AND HOLIDAY SEASON.\n",
    "- THIS CONFIRMS THAT THE SALES VARY WITH THE DATE(TIME) AND THERE IS A 'SEASONALITY' FACTOR PRESENT IN OUR DATA."
   ]
  },
  {
   "cell_type": "code",
   "execution_count": 33,
   "id": "2a80c3bf",
   "metadata": {
    "scrolled": true
   },
   "outputs": [
    {
     "data": {
      "text/plain": [
       "<AxesSubplot:xlabel='date'>"
      ]
     },
     "execution_count": 33,
     "metadata": {},
     "output_type": "execute_result"
    },
    {
     "data": {
      "image/png": "[encoded data removed]",
      "text/plain": [
       "<Figure size 1080x720 with 1 Axes>"
      ]
     },
     "metadata": {
      "needs_background": "light"
     },
     "output_type": "display_data"
    }
   ],
   "source": [
    "#visualizing sales\n",
    "sales_df = df2.sales\n",
    "sales_df.plot(figsize = (15,10))"
   ]
  },
  {
   "cell_type": "markdown",
   "id": "dda0179d",
   "metadata": {},
   "source": [
    "- FROM THE PLOT ABOVE, THERE IS A RESONATING DROP IN SALES AT THE BEGINNING OF EVERY YEAR. THIS TELLS US THAT SALES USUALLY DROP AT THE BEGINNING OF THE YEAR DUE TO THE RUSH IN THE HOLIDAY SEASON."
   ]
  },
  {
   "cell_type": "code",
   "execution_count": 34,
   "id": "ebbae883",
   "metadata": {
    "scrolled": true
   },
   "outputs": [
    {
     "data": {
      "text/plain": [
       "<AxesSubplot:xlabel='date'>"
      ]
     },
     "execution_count": 34,
     "metadata": {},
     "output_type": "execute_result"
    },
    {
     "data": {
      "image/png": "[encoded data removed]",
      "text/plain": [
       "<Figure size 432x288 with 1 Axes>"
      ]
     },
     "metadata": {
      "needs_background": "light"
     },
     "output_type": "display_data"
    }
   ],
   "source": [
    "#visualizing the first 200 points\n",
    "sales_df[:200].plot()"
   ]
  },
  {
   "cell_type": "code",
   "execution_count": 35,
   "id": "3d716fb9",
   "metadata": {
    "scrolled": false
   },
   "outputs": [
    {
     "data": {
      "text/plain": [
       "sales    0\n",
       "Year     0\n",
       "Month    0\n",
       "Day      0\n",
       "dtype: int64"
      ]
     },
     "execution_count": 35,
     "metadata": {},
     "output_type": "execute_result"
    }
   ],
   "source": [
    "#checking for null values\n",
    "df2.isnull().sum()"
   ]
  },
  {
   "cell_type": "markdown",
   "id": "e4298103",
   "metadata": {},
   "source": [
    "#### Augmented Dicky-Fuller test (ADF Test)\n",
    "\n",
    "- This test called Augmented Dicky-Fuller test provides us the statistical data such as p-value(probability)\n",
    "- To understand whether we can reject the null hypothesis. \n",
    "- The null hypothesis is that data is not stationary and the alternative hypothesis says that data is stationary. \n",
    "- If the p-value is less than (say 0.5), \n",
    "- we will reject the null hypothesis and say that data is stationary."
   ]
  },
  {
   "cell_type": "code",
   "execution_count": 36,
   "id": "25651708",
   "metadata": {
    "scrolled": true
   },
   "outputs": [
    {
     "name": "stdout",
     "output_type": "stream",
     "text": [
      "1. ADF : -2.616195748604857\n",
      "2. P-Value : 0.08969592175787466\n",
      "3. Num of Lags : 22\n",
      "4. Num of Observations Used for ADF Regression and Critical Values Calculation : 1661\n",
      "5. Critical Values :\n",
      " {'1%': -3.4342930672797065, '5%': -2.8632816397229064, '10%': -2.567697207194407}\n",
      "\t 1% : -3.4342930672797065\n",
      "\t 5% : -2.8632816397229064\n",
      "\t 10% : -2.567697207194407\n"
     ]
    }
   ],
   "source": [
    "#importing libraries for the test\n",
    "from statsmodels.tsa.stattools import adfuller\n",
    "\n",
    "dftest = adfuller(sales_df, autolag = 'AIC')\n",
    "\n",
    "print(\"1. ADF :\",dftest[0])\n",
    "print(\"2. P-Value :\" ,dftest[1])\n",
    "print(\"3. Num of Lags :\",dftest[2])\n",
    "print(\"4. Num of Observations Used for ADF Regression and Critical Values Calculation :\",dftest[3])\n",
    "print(\"5. Critical Values :\\n\",dftest[4])\n",
    "for key, val in dftest[4].items():\n",
    "    print(\"\\t\", key, \":\", val)"
   ]
  },
  {
   "cell_type": "markdown",
   "id": "d49f53f9",
   "metadata": {},
   "source": [
    "- We can see from the above plot and statistical test that mean and variation don’t change much with time i.e they are constant. \n",
    "- Thus, we don’t need to perform any transformation (needed when time series is not stationary) because our data has proven to be STATIONARY."
   ]
  },
  {
   "cell_type": "markdown",
   "id": "e32be8f3",
   "metadata": {},
   "source": [
    "### MODEL 1"
   ]
  },
  {
   "cell_type": "markdown",
   "id": "38bfd99f",
   "metadata": {},
   "source": [
    "### Building Our Linear Regression Model\n",
    "\n",
    "##### Using Timestep features(time dummy)"
   ]
  },
  {
   "cell_type": "code",
   "execution_count": 37,
   "id": "5c717022",
   "metadata": {},
   "outputs": [
    {
     "data": {
      "text/plain": [
       "array([   0,    1,    2, ..., 1681, 1682, 1683])"
      ]
     },
     "execution_count": 37,
     "metadata": {},
     "output_type": "execute_result"
    }
   ],
   "source": [
    "#Create a time dummy\n",
    "time = np.arange(len(df2.sales.index))\n",
    "time"
   ]
  },
  {
   "cell_type": "code",
   "execution_count": 38,
   "id": "ef643c4d",
   "metadata": {
    "scrolled": false
   },
   "outputs": [
    {
     "data": {
      "text/html": [
       "<div>\n",
       "<style scoped>\n",
       "    .dataframe tbody tr th:only-of-type {\n",
       "        vertical-align: middle;\n",
       "    }\n",
       "\n",
       "    .dataframe tbody tr th {\n",
       "        vertical-align: top;\n",
       "    }\n",
       "\n",
       "    .dataframe thead th {\n",
       "        text-align: right;\n",
       "    }\n",
       "</style>\n",
       "<table border=\"1\" class=\"dataframe\">\n",
       "  <thead>\n",
       "    <tr style=\"text-align: right;\">\n",
       "      <th></th>\n",
       "      <th>sales</th>\n",
       "      <th>Year</th>\n",
       "      <th>Month</th>\n",
       "      <th>Day</th>\n",
       "      <th>time</th>\n",
       "    </tr>\n",
       "    <tr>\n",
       "      <th>date</th>\n",
       "      <th></th>\n",
       "      <th></th>\n",
       "      <th></th>\n",
       "      <th></th>\n",
       "      <th></th>\n",
       "    </tr>\n",
       "  </thead>\n",
       "  <tbody>\n",
       "    <tr>\n",
       "      <th>2013-01-01</th>\n",
       "      <td>2511.618999</td>\n",
       "      <td>2013</td>\n",
       "      <td>1</td>\n",
       "      <td>1</td>\n",
       "      <td>0</td>\n",
       "    </tr>\n",
       "    <tr>\n",
       "      <th>2013-01-02</th>\n",
       "      <td>496092.417944</td>\n",
       "      <td>2013</td>\n",
       "      <td>1</td>\n",
       "      <td>2</td>\n",
       "      <td>1</td>\n",
       "    </tr>\n",
       "    <tr>\n",
       "      <th>2013-01-03</th>\n",
       "      <td>361461.231124</td>\n",
       "      <td>2013</td>\n",
       "      <td>1</td>\n",
       "      <td>3</td>\n",
       "      <td>2</td>\n",
       "    </tr>\n",
       "    <tr>\n",
       "      <th>2013-01-04</th>\n",
       "      <td>354459.677093</td>\n",
       "      <td>2013</td>\n",
       "      <td>1</td>\n",
       "      <td>4</td>\n",
       "      <td>3</td>\n",
       "    </tr>\n",
       "    <tr>\n",
       "      <th>2013-01-05</th>\n",
       "      <td>477350.121229</td>\n",
       "      <td>2013</td>\n",
       "      <td>1</td>\n",
       "      <td>5</td>\n",
       "      <td>4</td>\n",
       "    </tr>\n",
       "    <tr>\n",
       "      <th>...</th>\n",
       "      <td>...</td>\n",
       "      <td>...</td>\n",
       "      <td>...</td>\n",
       "      <td>...</td>\n",
       "      <td>...</td>\n",
       "    </tr>\n",
       "    <tr>\n",
       "      <th>2017-08-11</th>\n",
       "      <td>826373.722022</td>\n",
       "      <td>2017</td>\n",
       "      <td>8</td>\n",
       "      <td>11</td>\n",
       "      <td>1679</td>\n",
       "    </tr>\n",
       "    <tr>\n",
       "      <th>2017-08-12</th>\n",
       "      <td>792630.535079</td>\n",
       "      <td>2017</td>\n",
       "      <td>8</td>\n",
       "      <td>12</td>\n",
       "      <td>1680</td>\n",
       "    </tr>\n",
       "    <tr>\n",
       "      <th>2017-08-13</th>\n",
       "      <td>865639.677471</td>\n",
       "      <td>2017</td>\n",
       "      <td>8</td>\n",
       "      <td>13</td>\n",
       "      <td>1681</td>\n",
       "    </tr>\n",
       "    <tr>\n",
       "      <th>2017-08-14</th>\n",
       "      <td>760922.406081</td>\n",
       "      <td>2017</td>\n",
       "      <td>8</td>\n",
       "      <td>14</td>\n",
       "      <td>1682</td>\n",
       "    </tr>\n",
       "    <tr>\n",
       "      <th>2017-08-15</th>\n",
       "      <td>762661.935939</td>\n",
       "      <td>2017</td>\n",
       "      <td>8</td>\n",
       "      <td>15</td>\n",
       "      <td>1683</td>\n",
       "    </tr>\n",
       "  </tbody>\n",
       "</table>\n",
       "<p>1684 rows × 5 columns</p>\n",
       "</div>"
      ],
      "text/plain": [
       "                    sales  Year  Month  Day  time\n",
       "date                                             \n",
       "2013-01-01    2511.618999  2013      1    1     0\n",
       "2013-01-02  496092.417944  2013      1    2     1\n",
       "2013-01-03  361461.231124  2013      1    3     2\n",
       "2013-01-04  354459.677093  2013      1    4     3\n",
       "2013-01-05  477350.121229  2013      1    5     4\n",
       "...                   ...   ...    ...  ...   ...\n",
       "2017-08-11  826373.722022  2017      8   11  1679\n",
       "2017-08-12  792630.535079  2017      8   12  1680\n",
       "2017-08-13  865639.677471  2017      8   13  1681\n",
       "2017-08-14  760922.406081  2017      8   14  1682\n",
       "2017-08-15  762661.935939  2017      8   15  1683\n",
       "\n",
       "[1684 rows x 5 columns]"
      ]
     },
     "execution_count": 38,
     "metadata": {},
     "output_type": "execute_result"
    }
   ],
   "source": [
    "#adding the dummy to the dataframe\n",
    "df2['time'] = time\n",
    "df2"
   ]
  },
  {
   "cell_type": "code",
   "execution_count": 39,
   "id": "ae2a5165",
   "metadata": {},
   "outputs": [],
   "source": [
    "#define the model\n",
    "from sklearn.linear_model import LinearRegression\n",
    "\n",
    "#Selecting the features and target\n",
    "X = df2.loc[:, ['time']]  # features\n",
    "y = df2.loc[:, 'sales']  # target"
   ]
  },
  {
   "cell_type": "code",
   "execution_count": 40,
   "id": "442527c3",
   "metadata": {},
   "outputs": [],
   "source": [
    "#importing libraries for data splitting\n",
    "from sklearn.model_selection import train_test_split\n",
    "\n",
    "#splitting the data\n",
    "X_train,X_test,y_train,y_test = train_test_split(X,y,test_size = 0.2,\n",
    "                                                random_state = 1)"
   ]
  },
  {
   "cell_type": "code",
   "execution_count": 41,
   "id": "0755e581",
   "metadata": {},
   "outputs": [
    {
     "data": {
      "text/plain": [
       "LinearRegression()"
      ]
     },
     "execution_count": 41,
     "metadata": {},
     "output_type": "execute_result"
    }
   ],
   "source": [
    "#define and fit the model\n",
    "model1 = LinearRegression()\n",
    "lr_model = model1.fit(X_train, y_train)\n",
    "lr_model"
   ]
  },
  {
   "cell_type": "code",
   "execution_count": 42,
   "id": "567dc158",
   "metadata": {},
   "outputs": [
    {
     "data": {
      "text/plain": [
       "array([346.53391003])"
      ]
     },
     "execution_count": 42,
     "metadata": {},
     "output_type": "execute_result"
    }
   ],
   "source": [
    "#coefficient\n",
    "model1.coef_"
   ]
  },
  {
   "cell_type": "code",
   "execution_count": 43,
   "id": "7fdd6ac6",
   "metadata": {},
   "outputs": [
    {
     "data": {
      "text/plain": [
       "346733.02570849523"
      ]
     },
     "execution_count": 43,
     "metadata": {},
     "output_type": "execute_result"
    }
   ],
   "source": [
    "#intercept\n",
    "model1.intercept_"
   ]
  },
  {
   "cell_type": "markdown",
   "id": "1052275d",
   "metadata": {},
   "source": [
    "- Therefore equation of line: (target = 346.326 * time + 346733.0257)"
   ]
  },
  {
   "cell_type": "code",
   "execution_count": 44,
   "id": "1de4c191",
   "metadata": {},
   "outputs": [
    {
     "data": {
      "text/plain": [
       "array([673514.50286987, 892523.93401089, 802078.58349221, 546683.09179769,\n",
       "       769157.86203905, 684950.12190096, 599356.24612275, 544950.42224752,\n",
       "       782326.15062031, 691534.2661916 , 786138.02363068, 491584.2001024 ,\n",
       "       540445.48141709, 385198.28972219, 430247.69802651, 383812.15408205,\n",
       "       866187.35684836, 779207.34543001, 906731.82432225, 812128.06688317,\n",
       "       662771.95165883, 732425.26757552, 916781.30771322, 439604.11359741,\n",
       "       687375.8592712 , 664851.15511903, 384158.68799209, 483960.45408167,\n",
       "       731039.13193539, 902226.88349182, 583415.68626122, 638168.04404647,\n",
       "       372723.06896099, 882474.45061993, 787870.69318084, 708514.42778323,\n",
       "       480495.11498134, 913662.50252292, 671435.29940967, 834306.2371253 ,\n",
       "       696732.27484209, 566435.52466959, 702276.81740263, 467326.82640007,\n",
       "       404604.18868405, 602128.51740301, 853019.0682671 , 742474.75096649,\n",
       "       878662.57760956, 533168.26930639, 764999.45511865, 530049.46411609,\n",
       "       729652.99629526, 826682.49110457, 663118.48556887, 445495.19006798,\n",
       "       535940.54058666, 413960.60425495, 837425.0423156 , 363366.65339009,\n",
       "       802425.11740224, 618762.14508461, 559158.31255889, 777128.14196981,\n",
       "       446534.79179808, 901187.28176172, 582029.55062108, 589999.83055185,\n",
       "       449653.59698838, 544257.35442746, 753217.30217752, 593811.70356221,\n",
       "       644752.1883371 , 503712.88695357, 493663.4035626 , 494703.0052927 ,\n",
       "       796187.50702164, 469059.49595024, 912969.43470285, 855098.2717273 ,\n",
       "       820444.88072397, 378267.61152152, 375148.80633122, 390396.29837269,\n",
       "       365099.32294026, 635395.77276621, 451039.73262851, 830494.36411494,\n",
       "       927523.85892425, 904306.08695202, 479108.9793412 , 641633.38314681,\n",
       "       614257.20425418, 734157.93712569, 369257.72986066, 783019.21844038,\n",
       "       367525.06031049, 697771.87657219, 416732.87553522, 486386.1914519 ,\n",
       "       557425.64300872, 501287.14958333, 897375.40875136, 541831.61705722,\n",
       "       349505.29698876, 739009.41186615, 597277.04266255, 550841.49871809,\n",
       "       597970.11048261, 880048.71324969, 785098.42190058, 784405.35408051,\n",
       "       763959.85338855, 488118.86100207, 836038.90667547, 401485.38349375,\n",
       "       713019.36861366, 681484.78280063, 527277.19283583, 740049.01359625,\n",
       "       809355.79560291, 424010.08764591, 473564.43678067, 815246.87207347,\n",
       "       874504.17068916, 720643.11463439, 628118.56065551, 612178.00079398,\n",
       "       735890.60667585, 438217.97795728, 778167.74369991, 695346.13920196,\n",
       "       593118.63574215, 575791.94024048, 626732.42501538, 682870.91844076,\n",
       "       468366.42813017, 687029.32536116, 576831.54197058, 569900.86376992,\n",
       "       347772.6274386 , 555346.43954852, 852326.00044703, 878316.04369953,\n",
       "       917820.90944332, 395247.77311315, 799652.84612198, 873811.10286909,\n",
       "       540098.94750706, 741088.61532635, 444802.12224791, 609752.26342374,\n",
       "       774009.33677951, 706435.22432303, 530742.53193616, 655841.27345817,\n",
       "       914009.03643295, 402524.98522385, 846781.4578865 , 506138.6243238 ,\n",
       "       888365.52709049, 346733.0257085 , 547376.15961776, 545990.02397762,\n",
       "       649603.66307757, 708860.96169326, 843662.6526962 , 386584.42536232,\n",
       "       869306.16203866, 707474.82605313, 828068.6267447 , 609059.19560368,\n",
       "       667623.4263993 , 357129.04300949, 833959.70321527, 436138.77449708,\n",
       "       475643.64024087, 918860.51117342, 705395.62259293, 829108.2284748 ,\n",
       "       709554.02951333, 679752.11325046, 359554.78037973, 452079.33435861,\n",
       "       605247.32259331, 772623.20113938, 461089.21601947, 451386.26653854,\n",
       "       834652.77103534, 920246.64681355, 643712.58660701, 725494.58937486,\n",
       "       492623.8018325 , 416386.34162518, 914702.10425302, 614950.27207424,\n",
       "       608019.59387358, 426782.35892618, 717870.84335412, 775742.00632968,\n",
       "       690148.13055146, 439257.57968738, 927870.39283428, 738316.34404609,\n",
       "       639554.17968661, 374455.73851116, 665544.2229391 , 610445.33124381,\n",
       "       656187.8073682 , 381732.95062186, 825989.4232845 , 487425.793182  ,\n",
       "       432673.43539675, 771237.06549925, 658613.54473844, 835345.8388554 ,\n",
       "       382079.48453189, 567821.66030972, 529702.93020606, 801732.04958217,\n",
       "       827029.0250146 , 409455.66342452, 750791.56480728, 590346.36446188,\n",
       "       529356.39629603, 822524.08418417, 627425.49283544, 435099.17276698,\n",
       "       499901.0139432 , 743514.35269659, 408069.52778438, 900147.68003162,\n",
       "       678365.97761033, 495049.53920273, 761880.64992835, 611138.39906388,\n",
       "       800345.91394204, 812474.60079321, 536287.07449669, 692227.33401166,\n",
       "       501633.68349337, 770890.53158921, 412574.46861482, 728613.39456516,\n",
       "       821137.94854404, 695692.673112  , 914355.57034299, 701237.21567253,\n",
       "       591039.43228195, 366831.99249042, 613910.67034414, 788910.29491094,\n",
       "       755989.57345778, 464901.08902984, 551881.10044819, 442029.85096764,\n",
       "       670742.2315896 , 832573.56757514, 830147.8302049 , 824603.28764437,\n",
       "       387970.56100245, 824256.75373434, 576485.00806055, 562623.65165922,\n",
       "       573019.66896022, 451732.80044858, 405297.25650412, 702623.35131266,\n",
       "       447920.92743821, 474257.50460074, 440297.18141748, 563316.71947929,\n",
       "       797920.17657181, 730692.59802536, 549108.82916792, 633663.10321604,\n",
       "       453812.00390877, 728959.92847519, 418812.07899541, 382772.55235196,\n",
       "       428515.02847635, 655494.73954814, 899454.61221156, 354356.77172923,\n",
       "       417425.94335528, 766385.59075878, 544603.88833749, 676979.8419702 ,\n",
       "       685296.655811  , 808662.72778284, 528663.32847596, 897721.94266139,\n",
       "       353317.16999913, 844355.72051627, 750445.03089725, 364406.25512019,\n",
       "       436485.30840711, 849553.72916677, 606633.45823345, 463168.41947967,\n",
       "       675940.2402401 , 830840.89802497, 698118.41048223, 811434.99906311,\n",
       "       363713.18730013, 379307.21325162, 880395.24715973, 554306.83781842,\n",
       "       450346.66480844, 853712.13608716, 888712.06100053, 833266.6353952 ,\n",
       "       725841.12328489, 908117.95996239, 637474.97622641, 667276.89248927,\n",
       "       770543.99767918, 792722.16792131, 579257.27934082, 513069.30252446,\n",
       "       840890.38141593, 715445.10598389, 497475.27657297, 599702.78003278,\n",
       "       611484.93297391, 564356.32120939, 425742.75719608, 733464.86930562,\n",
       "       507524.75996393, 859256.6786477 , 445841.72397801, 550148.43089802,\n",
       "       774355.87068955, 737623.27622602, 881434.84888983, 648217.52743744,\n",
       "       393515.10356299])"
      ]
     },
     "execution_count": 44,
     "metadata": {},
     "output_type": "execute_result"
    }
   ],
   "source": [
    "#predicting on test data\n",
    "predicted = lr_model.predict(X_test)\n",
    "predicted"
   ]
  },
  {
   "cell_type": "markdown",
   "id": "dce7cb1b",
   "metadata": {},
   "source": [
    "#### EVALUATION METRICS"
   ]
  },
  {
   "cell_type": "code",
   "execution_count": 45,
   "id": "d44b2822",
   "metadata": {
    "scrolled": true
   },
   "outputs": [
    {
     "data": {
      "text/plain": [
       "158814.98711215664"
      ]
     },
     "execution_count": 45,
     "metadata": {},
     "output_type": "execute_result"
    }
   ],
   "source": [
    "#ROOT MEAN SQUARED ERROR\n",
    "from sklearn.metrics import mean_squared_error\n",
    "mean_squared_error(predicted,y_test, squared = False)"
   ]
  },
  {
   "cell_type": "code",
   "execution_count": 46,
   "id": "b13d8c01",
   "metadata": {},
   "outputs": [
    {
     "data": {
      "text/plain": [
       "127040.45047655934"
      ]
     },
     "execution_count": 46,
     "metadata": {},
     "output_type": "execute_result"
    }
   ],
   "source": [
    "#MEAN SQUARED ERROR\n",
    "from sklearn.metrics import mean_absolute_error\n",
    "mean_absolute_error(y_test,predicted)"
   ]
  },
  {
   "cell_type": "code",
   "execution_count": 47,
   "id": "f9b4d8e4",
   "metadata": {},
   "outputs": [
    {
     "data": {
      "text/plain": [
       "0.09098251172541183"
      ]
     },
     "execution_count": 47,
     "metadata": {},
     "output_type": "execute_result"
    }
   ],
   "source": [
    "#R2 SCORE\n",
    "from sklearn.metrics import r2_score\n",
    "r2_score(predicted,y_test)"
   ]
  },
  {
   "cell_type": "code",
   "execution_count": 48,
   "id": "c5f5b128",
   "metadata": {},
   "outputs": [
    {
     "data": {
      "text/plain": [
       "0.1298190552852864"
      ]
     },
     "execution_count": 48,
     "metadata": {},
     "output_type": "execute_result"
    }
   ],
   "source": [
    "#MEAN SQUARED LOGERROR\n",
    "from sklearn.metrics import mean_squared_log_error\n",
    "mean_squared_log_error(predicted,y_test)"
   ]
  },
  {
   "cell_type": "code",
   "execution_count": 49,
   "id": "dba1824a",
   "metadata": {
    "scrolled": true
   },
   "outputs": [
    {
     "data": {
      "text/plain": [
       "<AxesSubplot:ylabel='sales'>"
      ]
     },
     "execution_count": 49,
     "metadata": {},
     "output_type": "execute_result"
    },
    {
     "data": {
      "image/png": "[encoded data removed]",
      "text/plain": [
       "<Figure size 432x288 with 1 Axes>"
      ]
     },
     "metadata": {
      "needs_background": "light"
     },
     "output_type": "display_data"
    }
   ],
   "source": [
    "#visualizing relationship between predicted and true values\n",
    "sns.regplot(x = predicted, y = y_test)"
   ]
  },
  {
   "cell_type": "markdown",
   "id": "cc729941",
   "metadata": {},
   "source": [
    "- Linear regression using time dummies doesn't seem to be a good model\n",
    "- We try another model"
   ]
  },
  {
   "cell_type": "markdown",
   "id": "e995201d",
   "metadata": {},
   "source": [
    "#### INSIGHTS ON LINEAR REGRESSION\n",
    "- We cannot predict effectively using time for the test data directly.\n",
    "- To predict using lag features, we will concatenate our train and test data, then using rolling average to predict the sales and then pick out our predicted from there.\n"
   ]
  },
  {
   "cell_type": "markdown",
   "id": "f5de69ac",
   "metadata": {},
   "source": [
    "### MODEL 2"
   ]
  },
  {
   "cell_type": "markdown",
   "id": "bfdb3109",
   "metadata": {},
   "source": [
    "### MODEL SELECTION\n",
    "\n",
    "#### AUTO-REGRESSION MODEL\n",
    "The second model to be used is an AUTO-REGRESSION model(AR) with a lag of n on the differenced dataset.\n",
    "- The first thing to do is to transform the data by differencing, with each observation transformed as:\n",
    "- value(t) = obs(t) - obs(t-1)\n",
    "- Here, the regression coefficients learned by the model are used to make predictions in a rolling manner across the test dataset.\n",
    "- As each time step in the dataset is executed, the prediction is made using the coefficients and stored. The actual observation for the time step is then made available and stored to be used as a lag variable for future predictions."
   ]
  },
  {
   "cell_type": "code",
   "execution_count": 50,
   "id": "57c50359",
   "metadata": {},
   "outputs": [],
   "source": [
    "#import libraries\n",
    "from statsmodels.tsa.ar_model import AutoReg\n",
    "from statsmodels.tsa.stattools import adfuller\n",
    "from sklearn.metrics import mean_squared_error\n",
    "from math import sqrt\n",
    "from pandas import DataFrame\n",
    "from pandas import concat"
   ]
  },
  {
   "cell_type": "code",
   "execution_count": 51,
   "id": "4f781166",
   "metadata": {
    "scrolled": false
   },
   "outputs": [
    {
     "data": {
      "text/html": [
       "<div>\n",
       "<style scoped>\n",
       "    .dataframe tbody tr th:only-of-type {\n",
       "        vertical-align: middle;\n",
       "    }\n",
       "\n",
       "    .dataframe tbody tr th {\n",
       "        vertical-align: top;\n",
       "    }\n",
       "\n",
       "    .dataframe thead th {\n",
       "        text-align: right;\n",
       "    }\n",
       "</style>\n",
       "<table border=\"1\" class=\"dataframe\">\n",
       "  <thead>\n",
       "    <tr style=\"text-align: right;\">\n",
       "      <th></th>\n",
       "      <th>sales</th>\n",
       "      <th>Year</th>\n",
       "      <th>Month</th>\n",
       "      <th>Day</th>\n",
       "      <th>time</th>\n",
       "    </tr>\n",
       "    <tr>\n",
       "      <th>date</th>\n",
       "      <th></th>\n",
       "      <th></th>\n",
       "      <th></th>\n",
       "      <th></th>\n",
       "      <th></th>\n",
       "    </tr>\n",
       "  </thead>\n",
       "  <tbody>\n",
       "    <tr>\n",
       "      <th>2013-01-01</th>\n",
       "      <td>2511.618999</td>\n",
       "      <td>2013</td>\n",
       "      <td>1</td>\n",
       "      <td>1</td>\n",
       "      <td>0</td>\n",
       "    </tr>\n",
       "    <tr>\n",
       "      <th>2013-01-02</th>\n",
       "      <td>496092.417944</td>\n",
       "      <td>2013</td>\n",
       "      <td>1</td>\n",
       "      <td>2</td>\n",
       "      <td>1</td>\n",
       "    </tr>\n",
       "    <tr>\n",
       "      <th>2013-01-03</th>\n",
       "      <td>361461.231124</td>\n",
       "      <td>2013</td>\n",
       "      <td>1</td>\n",
       "      <td>3</td>\n",
       "      <td>2</td>\n",
       "    </tr>\n",
       "    <tr>\n",
       "      <th>2013-01-04</th>\n",
       "      <td>354459.677093</td>\n",
       "      <td>2013</td>\n",
       "      <td>1</td>\n",
       "      <td>4</td>\n",
       "      <td>3</td>\n",
       "    </tr>\n",
       "    <tr>\n",
       "      <th>2013-01-05</th>\n",
       "      <td>477350.121229</td>\n",
       "      <td>2013</td>\n",
       "      <td>1</td>\n",
       "      <td>5</td>\n",
       "      <td>4</td>\n",
       "    </tr>\n",
       "  </tbody>\n",
       "</table>\n",
       "</div>"
      ],
      "text/plain": [
       "                    sales  Year  Month  Day  time\n",
       "date                                             \n",
       "2013-01-01    2511.618999  2013      1    1     0\n",
       "2013-01-02  496092.417944  2013      1    2     1\n",
       "2013-01-03  361461.231124  2013      1    3     2\n",
       "2013-01-04  354459.677093  2013      1    4     3\n",
       "2013-01-05  477350.121229  2013      1    5     4"
      ]
     },
     "execution_count": 51,
     "metadata": {},
     "output_type": "execute_result"
    }
   ],
   "source": [
    "df2.head()"
   ]
  },
  {
   "cell_type": "code",
   "execution_count": 52,
   "id": "d808ad72",
   "metadata": {},
   "outputs": [
    {
     "data": {
      "text/html": [
       "<div>\n",
       "<style scoped>\n",
       "    .dataframe tbody tr th:only-of-type {\n",
       "        vertical-align: middle;\n",
       "    }\n",
       "\n",
       "    .dataframe tbody tr th {\n",
       "        vertical-align: top;\n",
       "    }\n",
       "\n",
       "    .dataframe thead th {\n",
       "        text-align: right;\n",
       "    }\n",
       "</style>\n",
       "<table border=\"1\" class=\"dataframe\">\n",
       "  <thead>\n",
       "    <tr style=\"text-align: right;\">\n",
       "      <th></th>\n",
       "      <th>sales</th>\n",
       "    </tr>\n",
       "    <tr>\n",
       "      <th>date</th>\n",
       "      <th></th>\n",
       "    </tr>\n",
       "  </thead>\n",
       "  <tbody>\n",
       "    <tr>\n",
       "      <th>2013-01-01</th>\n",
       "      <td>2511.618999</td>\n",
       "    </tr>\n",
       "    <tr>\n",
       "      <th>2013-01-02</th>\n",
       "      <td>496092.417944</td>\n",
       "    </tr>\n",
       "    <tr>\n",
       "      <th>2013-01-03</th>\n",
       "      <td>361461.231124</td>\n",
       "    </tr>\n",
       "    <tr>\n",
       "      <th>2013-01-04</th>\n",
       "      <td>354459.677093</td>\n",
       "    </tr>\n",
       "    <tr>\n",
       "      <th>2013-01-05</th>\n",
       "      <td>477350.121229</td>\n",
       "    </tr>\n",
       "  </tbody>\n",
       "</table>\n",
       "</div>"
      ],
      "text/plain": [
       "                    sales\n",
       "date                     \n",
       "2013-01-01    2511.618999\n",
       "2013-01-02  496092.417944\n",
       "2013-01-03  361461.231124\n",
       "2013-01-04  354459.677093\n",
       "2013-01-05  477350.121229"
      ]
     },
     "execution_count": 52,
     "metadata": {},
     "output_type": "execute_result"
    }
   ],
   "source": [
    "df3 = df2.drop(['Year','Month','Day','time'], axis = 1)\n",
    "df3.head()"
   ]
  },
  {
   "cell_type": "code",
   "execution_count": 53,
   "id": "0d9a9245",
   "metadata": {},
   "outputs": [],
   "source": [
    "# create lagged dataset\n",
    "values = DataFrame(df3.sales)\n",
    "dataframe = concat([values.shift(1), values], axis=1)\n",
    "dataframe.columns = ['t-1', 't+1'] #adding as columns to the dataset"
   ]
  },
  {
   "cell_type": "code",
   "execution_count": 54,
   "id": "b04ed4e5",
   "metadata": {
    "scrolled": true
   },
   "outputs": [
    {
     "data": {
      "text/html": [
       "<div>\n",
       "<style scoped>\n",
       "    .dataframe tbody tr th:only-of-type {\n",
       "        vertical-align: middle;\n",
       "    }\n",
       "\n",
       "    .dataframe tbody tr th {\n",
       "        vertical-align: top;\n",
       "    }\n",
       "\n",
       "    .dataframe thead th {\n",
       "        text-align: right;\n",
       "    }\n",
       "</style>\n",
       "<table border=\"1\" class=\"dataframe\">\n",
       "  <thead>\n",
       "    <tr style=\"text-align: right;\">\n",
       "      <th></th>\n",
       "      <th>t-1</th>\n",
       "      <th>t+1</th>\n",
       "    </tr>\n",
       "    <tr>\n",
       "      <th>date</th>\n",
       "      <th></th>\n",
       "      <th></th>\n",
       "    </tr>\n",
       "  </thead>\n",
       "  <tbody>\n",
       "    <tr>\n",
       "      <th>2013-01-01</th>\n",
       "      <td>NaN</td>\n",
       "      <td>2511.618999</td>\n",
       "    </tr>\n",
       "    <tr>\n",
       "      <th>2013-01-02</th>\n",
       "      <td>2511.618999</td>\n",
       "      <td>496092.417944</td>\n",
       "    </tr>\n",
       "    <tr>\n",
       "      <th>2013-01-03</th>\n",
       "      <td>496092.417944</td>\n",
       "      <td>361461.231124</td>\n",
       "    </tr>\n",
       "    <tr>\n",
       "      <th>2013-01-04</th>\n",
       "      <td>361461.231124</td>\n",
       "      <td>354459.677093</td>\n",
       "    </tr>\n",
       "    <tr>\n",
       "      <th>2013-01-05</th>\n",
       "      <td>354459.677093</td>\n",
       "      <td>477350.121229</td>\n",
       "    </tr>\n",
       "    <tr>\n",
       "      <th>...</th>\n",
       "      <td>...</td>\n",
       "      <td>...</td>\n",
       "    </tr>\n",
       "    <tr>\n",
       "      <th>2017-08-11</th>\n",
       "      <td>651386.911970</td>\n",
       "      <td>826373.722022</td>\n",
       "    </tr>\n",
       "    <tr>\n",
       "      <th>2017-08-12</th>\n",
       "      <td>826373.722022</td>\n",
       "      <td>792630.535079</td>\n",
       "    </tr>\n",
       "    <tr>\n",
       "      <th>2017-08-13</th>\n",
       "      <td>792630.535079</td>\n",
       "      <td>865639.677471</td>\n",
       "    </tr>\n",
       "    <tr>\n",
       "      <th>2017-08-14</th>\n",
       "      <td>865639.677471</td>\n",
       "      <td>760922.406081</td>\n",
       "    </tr>\n",
       "    <tr>\n",
       "      <th>2017-08-15</th>\n",
       "      <td>760922.406081</td>\n",
       "      <td>762661.935939</td>\n",
       "    </tr>\n",
       "  </tbody>\n",
       "</table>\n",
       "<p>1684 rows × 2 columns</p>\n",
       "</div>"
      ],
      "text/plain": [
       "                      t-1            t+1\n",
       "date                                    \n",
       "2013-01-01            NaN    2511.618999\n",
       "2013-01-02    2511.618999  496092.417944\n",
       "2013-01-03  496092.417944  361461.231124\n",
       "2013-01-04  361461.231124  354459.677093\n",
       "2013-01-05  354459.677093  477350.121229\n",
       "...                   ...            ...\n",
       "2017-08-11  651386.911970  826373.722022\n",
       "2017-08-12  826373.722022  792630.535079\n",
       "2017-08-13  792630.535079  865639.677471\n",
       "2017-08-14  865639.677471  760922.406081\n",
       "2017-08-15  760922.406081  762661.935939\n",
       "\n",
       "[1684 rows x 2 columns]"
      ]
     },
     "execution_count": 54,
     "metadata": {},
     "output_type": "execute_result"
    }
   ],
   "source": [
    "#calling out the dataframe\n",
    "dataframe"
   ]
  },
  {
   "cell_type": "code",
   "execution_count": 55,
   "id": "8331d05d",
   "metadata": {},
   "outputs": [],
   "source": [
    "# persistence model\n",
    "def model_persistence(x):\n",
    " return x"
   ]
  },
  {
   "cell_type": "code",
   "execution_count": 56,
   "id": "41b33ad4",
   "metadata": {
    "scrolled": false
   },
   "outputs": [
    {
     "data": {
      "text/html": [
       "<div>\n",
       "<style scoped>\n",
       "    .dataframe tbody tr th:only-of-type {\n",
       "        vertical-align: middle;\n",
       "    }\n",
       "\n",
       "    .dataframe tbody tr th {\n",
       "        vertical-align: top;\n",
       "    }\n",
       "\n",
       "    .dataframe thead th {\n",
       "        text-align: right;\n",
       "    }\n",
       "</style>\n",
       "<table border=\"1\" class=\"dataframe\">\n",
       "  <thead>\n",
       "    <tr style=\"text-align: right;\">\n",
       "      <th></th>\n",
       "      <th>id</th>\n",
       "      <th>date</th>\n",
       "      <th>store_nbr</th>\n",
       "      <th>family</th>\n",
       "      <th>onpromotion</th>\n",
       "    </tr>\n",
       "  </thead>\n",
       "  <tbody>\n",
       "    <tr>\n",
       "      <th>0</th>\n",
       "      <td>3000888</td>\n",
       "      <td>2017-08-16</td>\n",
       "      <td>1</td>\n",
       "      <td>AUTOMOTIVE</td>\n",
       "      <td>0</td>\n",
       "    </tr>\n",
       "    <tr>\n",
       "      <th>1</th>\n",
       "      <td>3000889</td>\n",
       "      <td>2017-08-16</td>\n",
       "      <td>1</td>\n",
       "      <td>BABY CARE</td>\n",
       "      <td>0</td>\n",
       "    </tr>\n",
       "    <tr>\n",
       "      <th>2</th>\n",
       "      <td>3000890</td>\n",
       "      <td>2017-08-16</td>\n",
       "      <td>1</td>\n",
       "      <td>BEAUTY</td>\n",
       "      <td>2</td>\n",
       "    </tr>\n",
       "    <tr>\n",
       "      <th>3</th>\n",
       "      <td>3000891</td>\n",
       "      <td>2017-08-16</td>\n",
       "      <td>1</td>\n",
       "      <td>BEVERAGES</td>\n",
       "      <td>20</td>\n",
       "    </tr>\n",
       "    <tr>\n",
       "      <th>4</th>\n",
       "      <td>3000892</td>\n",
       "      <td>2017-08-16</td>\n",
       "      <td>1</td>\n",
       "      <td>BOOKS</td>\n",
       "      <td>0</td>\n",
       "    </tr>\n",
       "    <tr>\n",
       "      <th>...</th>\n",
       "      <td>...</td>\n",
       "      <td>...</td>\n",
       "      <td>...</td>\n",
       "      <td>...</td>\n",
       "      <td>...</td>\n",
       "    </tr>\n",
       "    <tr>\n",
       "      <th>28507</th>\n",
       "      <td>3029395</td>\n",
       "      <td>2017-08-31</td>\n",
       "      <td>9</td>\n",
       "      <td>POULTRY</td>\n",
       "      <td>1</td>\n",
       "    </tr>\n",
       "    <tr>\n",
       "      <th>28508</th>\n",
       "      <td>3029396</td>\n",
       "      <td>2017-08-31</td>\n",
       "      <td>9</td>\n",
       "      <td>PREPARED FOODS</td>\n",
       "      <td>0</td>\n",
       "    </tr>\n",
       "    <tr>\n",
       "      <th>28509</th>\n",
       "      <td>3029397</td>\n",
       "      <td>2017-08-31</td>\n",
       "      <td>9</td>\n",
       "      <td>PRODUCE</td>\n",
       "      <td>1</td>\n",
       "    </tr>\n",
       "    <tr>\n",
       "      <th>28510</th>\n",
       "      <td>3029398</td>\n",
       "      <td>2017-08-31</td>\n",
       "      <td>9</td>\n",
       "      <td>SCHOOL AND OFFICE SUPPLIES</td>\n",
       "      <td>9</td>\n",
       "    </tr>\n",
       "    <tr>\n",
       "      <th>28511</th>\n",
       "      <td>3029399</td>\n",
       "      <td>2017-08-31</td>\n",
       "      <td>9</td>\n",
       "      <td>SEAFOOD</td>\n",
       "      <td>0</td>\n",
       "    </tr>\n",
       "  </tbody>\n",
       "</table>\n",
       "<p>28512 rows × 5 columns</p>\n",
       "</div>"
      ],
      "text/plain": [
       "            id        date  store_nbr                      family  onpromotion\n",
       "0      3000888  2017-08-16          1                  AUTOMOTIVE            0\n",
       "1      3000889  2017-08-16          1                   BABY CARE            0\n",
       "2      3000890  2017-08-16          1                      BEAUTY            2\n",
       "3      3000891  2017-08-16          1                   BEVERAGES           20\n",
       "4      3000892  2017-08-16          1                       BOOKS            0\n",
       "...        ...         ...        ...                         ...          ...\n",
       "28507  3029395  2017-08-31          9                     POULTRY            1\n",
       "28508  3029396  2017-08-31          9              PREPARED FOODS            0\n",
       "28509  3029397  2017-08-31          9                     PRODUCE            1\n",
       "28510  3029398  2017-08-31          9  SCHOOL AND OFFICE SUPPLIES            9\n",
       "28511  3029399  2017-08-31          9                     SEAFOOD            0\n",
       "\n",
       "[28512 rows x 5 columns]"
      ]
     },
     "execution_count": 56,
     "metadata": {},
     "output_type": "execute_result"
    }
   ],
   "source": [
    "#calling out test dataframe\n",
    "test = pd.read_csv('/Users/apple/Downloads/test.csv')\n",
    "test"
   ]
  },
  {
   "cell_type": "code",
   "execution_count": 57,
   "id": "9aab87cb",
   "metadata": {},
   "outputs": [
    {
     "data": {
      "text/html": [
       "<div>\n",
       "<style scoped>\n",
       "    .dataframe tbody tr th:only-of-type {\n",
       "        vertical-align: middle;\n",
       "    }\n",
       "\n",
       "    .dataframe tbody tr th {\n",
       "        vertical-align: top;\n",
       "    }\n",
       "\n",
       "    .dataframe thead th {\n",
       "        text-align: right;\n",
       "    }\n",
       "</style>\n",
       "<table border=\"1\" class=\"dataframe\">\n",
       "  <thead>\n",
       "    <tr style=\"text-align: right;\">\n",
       "      <th></th>\n",
       "      <th>id</th>\n",
       "      <th>store_nbr</th>\n",
       "      <th>family</th>\n",
       "      <th>onpromotion</th>\n",
       "    </tr>\n",
       "    <tr>\n",
       "      <th>date</th>\n",
       "      <th></th>\n",
       "      <th></th>\n",
       "      <th></th>\n",
       "      <th></th>\n",
       "    </tr>\n",
       "  </thead>\n",
       "  <tbody>\n",
       "    <tr>\n",
       "      <th>2017-08-16</th>\n",
       "      <td>3000888</td>\n",
       "      <td>1</td>\n",
       "      <td>AUTOMOTIVE</td>\n",
       "      <td>0</td>\n",
       "    </tr>\n",
       "    <tr>\n",
       "      <th>2017-08-16</th>\n",
       "      <td>3000889</td>\n",
       "      <td>1</td>\n",
       "      <td>BABY CARE</td>\n",
       "      <td>0</td>\n",
       "    </tr>\n",
       "    <tr>\n",
       "      <th>2017-08-16</th>\n",
       "      <td>3000890</td>\n",
       "      <td>1</td>\n",
       "      <td>BEAUTY</td>\n",
       "      <td>2</td>\n",
       "    </tr>\n",
       "    <tr>\n",
       "      <th>2017-08-16</th>\n",
       "      <td>3000891</td>\n",
       "      <td>1</td>\n",
       "      <td>BEVERAGES</td>\n",
       "      <td>20</td>\n",
       "    </tr>\n",
       "    <tr>\n",
       "      <th>2017-08-16</th>\n",
       "      <td>3000892</td>\n",
       "      <td>1</td>\n",
       "      <td>BOOKS</td>\n",
       "      <td>0</td>\n",
       "    </tr>\n",
       "  </tbody>\n",
       "</table>\n",
       "</div>"
      ],
      "text/plain": [
       "                 id  store_nbr      family  onpromotion\n",
       "date                                                   \n",
       "2017-08-16  3000888          1  AUTOMOTIVE            0\n",
       "2017-08-16  3000889          1   BABY CARE            0\n",
       "2017-08-16  3000890          1      BEAUTY            2\n",
       "2017-08-16  3000891          1   BEVERAGES           20\n",
       "2017-08-16  3000892          1       BOOKS            0"
      ]
     },
     "execution_count": 57,
     "metadata": {},
     "output_type": "execute_result"
    }
   ],
   "source": [
    "test2 = test.set_index('date') #set date as index\n",
    "test2.head()"
   ]
  },
  {
   "cell_type": "code",
   "execution_count": 58,
   "id": "18c85e4f",
   "metadata": {
    "scrolled": false
   },
   "outputs": [
    {
     "data": {
      "text/html": [
       "<div>\n",
       "<style scoped>\n",
       "    .dataframe tbody tr th:only-of-type {\n",
       "        vertical-align: middle;\n",
       "    }\n",
       "\n",
       "    .dataframe tbody tr th {\n",
       "        vertical-align: top;\n",
       "    }\n",
       "\n",
       "    .dataframe thead th {\n",
       "        text-align: right;\n",
       "    }\n",
       "</style>\n",
       "<table border=\"1\" class=\"dataframe\">\n",
       "  <thead>\n",
       "    <tr style=\"text-align: right;\">\n",
       "      <th></th>\n",
       "    </tr>\n",
       "    <tr>\n",
       "      <th>date</th>\n",
       "    </tr>\n",
       "  </thead>\n",
       "  <tbody>\n",
       "    <tr>\n",
       "      <th>2017-08-16</th>\n",
       "    </tr>\n",
       "    <tr>\n",
       "      <th>2017-08-16</th>\n",
       "    </tr>\n",
       "    <tr>\n",
       "      <th>2017-08-16</th>\n",
       "    </tr>\n",
       "    <tr>\n",
       "      <th>2017-08-16</th>\n",
       "    </tr>\n",
       "    <tr>\n",
       "      <th>2017-08-16</th>\n",
       "    </tr>\n",
       "  </tbody>\n",
       "</table>\n",
       "</div>"
      ],
      "text/plain": [
       "Empty DataFrame\n",
       "Columns: []\n",
       "Index: [2017-08-16, 2017-08-16, 2017-08-16, 2017-08-16, 2017-08-16]"
      ]
     },
     "execution_count": 58,
     "metadata": {},
     "output_type": "execute_result"
    }
   ],
   "source": [
    "test3 = test2.drop(['id','store_nbr','family','onpromotion'],axis = 1) #drop unwanted columns\n",
    "test3.head()"
   ]
  },
  {
   "cell_type": "code",
   "execution_count": 59,
   "id": "963e3c23",
   "metadata": {},
   "outputs": [],
   "source": [
    "test3 = test3.groupby(by = [test3.index]).sum() #groupby date"
   ]
  },
  {
   "cell_type": "code",
   "execution_count": 60,
   "id": "1c1c772c",
   "metadata": {
    "scrolled": false
   },
   "outputs": [
    {
     "data": {
      "text/html": [
       "<div>\n",
       "<style scoped>\n",
       "    .dataframe tbody tr th:only-of-type {\n",
       "        vertical-align: middle;\n",
       "    }\n",
       "\n",
       "    .dataframe tbody tr th {\n",
       "        vertical-align: top;\n",
       "    }\n",
       "\n",
       "    .dataframe thead th {\n",
       "        text-align: right;\n",
       "    }\n",
       "</style>\n",
       "<table border=\"1\" class=\"dataframe\">\n",
       "  <thead>\n",
       "    <tr style=\"text-align: right;\">\n",
       "      <th></th>\n",
       "      <th>date</th>\n",
       "    </tr>\n",
       "  </thead>\n",
       "  <tbody>\n",
       "    <tr>\n",
       "      <th>0</th>\n",
       "      <td>2017-08-16</td>\n",
       "    </tr>\n",
       "    <tr>\n",
       "      <th>1</th>\n",
       "      <td>2017-08-17</td>\n",
       "    </tr>\n",
       "    <tr>\n",
       "      <th>2</th>\n",
       "      <td>2017-08-18</td>\n",
       "    </tr>\n",
       "    <tr>\n",
       "      <th>3</th>\n",
       "      <td>2017-08-19</td>\n",
       "    </tr>\n",
       "    <tr>\n",
       "      <th>4</th>\n",
       "      <td>2017-08-20</td>\n",
       "    </tr>\n",
       "    <tr>\n",
       "      <th>5</th>\n",
       "      <td>2017-08-21</td>\n",
       "    </tr>\n",
       "    <tr>\n",
       "      <th>6</th>\n",
       "      <td>2017-08-22</td>\n",
       "    </tr>\n",
       "    <tr>\n",
       "      <th>7</th>\n",
       "      <td>2017-08-23</td>\n",
       "    </tr>\n",
       "    <tr>\n",
       "      <th>8</th>\n",
       "      <td>2017-08-24</td>\n",
       "    </tr>\n",
       "    <tr>\n",
       "      <th>9</th>\n",
       "      <td>2017-08-25</td>\n",
       "    </tr>\n",
       "    <tr>\n",
       "      <th>10</th>\n",
       "      <td>2017-08-26</td>\n",
       "    </tr>\n",
       "    <tr>\n",
       "      <th>11</th>\n",
       "      <td>2017-08-27</td>\n",
       "    </tr>\n",
       "    <tr>\n",
       "      <th>12</th>\n",
       "      <td>2017-08-28</td>\n",
       "    </tr>\n",
       "    <tr>\n",
       "      <th>13</th>\n",
       "      <td>2017-08-29</td>\n",
       "    </tr>\n",
       "    <tr>\n",
       "      <th>14</th>\n",
       "      <td>2017-08-30</td>\n",
       "    </tr>\n",
       "    <tr>\n",
       "      <th>15</th>\n",
       "      <td>2017-08-31</td>\n",
       "    </tr>\n",
       "  </tbody>\n",
       "</table>\n",
       "</div>"
      ],
      "text/plain": [
       "          date\n",
       "0   2017-08-16\n",
       "1   2017-08-17\n",
       "2   2017-08-18\n",
       "3   2017-08-19\n",
       "4   2017-08-20\n",
       "5   2017-08-21\n",
       "6   2017-08-22\n",
       "7   2017-08-23\n",
       "8   2017-08-24\n",
       "9   2017-08-25\n",
       "10  2017-08-26\n",
       "11  2017-08-27\n",
       "12  2017-08-28\n",
       "13  2017-08-29\n",
       "14  2017-08-30\n",
       "15  2017-08-31"
      ]
     },
     "execution_count": 60,
     "metadata": {},
     "output_type": "execute_result"
    }
   ],
   "source": [
    "test3.head()\n",
    "test3.reset_index()"
   ]
  },
  {
   "cell_type": "code",
   "execution_count": 61,
   "id": "972b5d42",
   "metadata": {},
   "outputs": [],
   "source": [
    "# walk-forward validation\n",
    "predictions = list()\n",
    "for x in test3:\n",
    " yhat = model_persistence(x)\n",
    " predictions.append(yhat)"
   ]
  },
  {
   "cell_type": "code",
   "execution_count": 62,
   "id": "e4c64596",
   "metadata": {},
   "outputs": [],
   "source": [
    "#creating train and test data\n",
    "X2 = df3.values\n",
    "train = X2[:len(X2)-7]\n",
    "testing = X2[len(X2)-7:] #last 7 values as test"
   ]
  },
  {
   "cell_type": "code",
   "execution_count": 63,
   "id": "f6ca1f96",
   "metadata": {},
   "outputs": [
    {
     "name": "stdout",
     "output_type": "stream",
     "text": [
      "Coefficients: [ 2.23063486e+04  4.78651366e-01 -4.21524226e-02  1.41508612e-01\n",
      "  3.89584408e-02  2.57295744e-02  6.69611548e-02  2.64532626e-01\n",
      " -1.08820933e-01 -1.17247347e-01 -3.42745379e-02  2.18333264e-02\n",
      " -4.41713703e-02  8.30066957e-02  3.29431274e-01 -4.59645026e-02\n",
      " -1.78897432e-02 -3.21664252e-02 -2.71287040e-02 -1.00101484e-01\n",
      "  8.65835365e-02]\n"
     ]
    }
   ],
   "source": [
    "model2 = AutoReg(train, lags=20)\n",
    "ar_model = model2.fit()\n",
    "print('Coefficients: %s' % ar_model.params)"
   ]
  },
  {
   "cell_type": "code",
   "execution_count": 64,
   "id": "9f9897c1",
   "metadata": {},
   "outputs": [],
   "source": [
    "# making predictions\n",
    "predictionagain = ar_model.predict(start=len(train), end=len(X2)-1, dynamic=False)"
   ]
  },
  {
   "cell_type": "code",
   "execution_count": 65,
   "id": "1766b30e",
   "metadata": {},
   "outputs": [
    {
     "data": {
      "text/plain": [
       "array([ 753717.15458764,  667311.21460479,  747060.73178523,\n",
       "        953509.70721779, 1010114.43374998,  839846.60664841,\n",
       "        833366.57824362])"
      ]
     },
     "execution_count": 65,
     "metadata": {},
     "output_type": "execute_result"
    }
   ],
   "source": [
    "predictionagain"
   ]
  },
  {
   "cell_type": "code",
   "execution_count": 66,
   "id": "df1ac66b",
   "metadata": {
    "scrolled": true
   },
   "outputs": [
    {
     "data": {
      "text/plain": [
       "array([[734139.67401  ],\n",
       "       [651386.9119697],\n",
       "       [826373.722022 ],\n",
       "       [792630.5350785],\n",
       "       [865639.677471 ],\n",
       "       [760922.4060808],\n",
       "       [762661.935939 ]])"
      ]
     },
     "execution_count": 66,
     "metadata": {},
     "output_type": "execute_result"
    }
   ],
   "source": [
    "testing"
   ]
  },
  {
   "cell_type": "code",
   "execution_count": 67,
   "id": "3b17a843",
   "metadata": {},
   "outputs": [
    {
     "data": {
      "text/plain": [
       "96296.15827467962"
      ]
     },
     "execution_count": 67,
     "metadata": {},
     "output_type": "execute_result"
    }
   ],
   "source": [
    "#evaluating actual and predicted using mse\n",
    "rmse = mean_squared_error(testing,predictionagain, squared = False)\n",
    "rmse"
   ]
  },
  {
   "cell_type": "code",
   "execution_count": 68,
   "id": "eac2efe4",
   "metadata": {},
   "outputs": [
    {
     "data": {
      "text/plain": [
       "array([738185.01693981, 787311.01717735, 959812.47920671, 981752.82118152,\n",
       "       824691.2133461 , 782386.98385531, 768941.57434946, 703110.80419468,\n",
       "       749228.91975213, 930796.84887671, 960637.93331495, 826543.24627627,\n",
       "       796209.97928506, 788056.32987081, 725992.22571106, 769917.86419241])"
      ]
     },
     "execution_count": 68,
     "metadata": {},
     "output_type": "execute_result"
    }
   ],
   "source": [
    "#to make future predictions on our unseen dataset\n",
    "#we can use this for the number of days desired\n",
    "predictionfuture = ar_model.predict(start=len(X2)+1, end=len(X2)+16, dynamic=False)\n",
    "predictionfuture"
   ]
  },
  {
   "cell_type": "code",
   "execution_count": 69,
   "id": "c6b6feb4",
   "metadata": {
    "scrolled": true
   },
   "outputs": [
    {
     "data": {
      "text/plain": [
       "array([], shape=(16, 0), dtype=float64)"
      ]
     },
     "execution_count": 69,
     "metadata": {},
     "output_type": "execute_result"
    }
   ],
   "source": [
    "#test data\n",
    "X3 = test3.values\n",
    "X3"
   ]
  },
  {
   "cell_type": "code",
   "execution_count": 70,
   "id": "6105916c",
   "metadata": {},
   "outputs": [
    {
     "data": {
      "text/plain": [
       "array([738185.01693981, 787311.01717735, 959812.47920671, 981752.82118152,\n",
       "       824691.2133461 , 782386.98385531, 768941.57434946, 703110.80419468,\n",
       "       749228.91975213, 930796.84887671, 960637.93331495, 826543.24627627,\n",
       "       796209.97928506, 788056.32987081, 725992.22571106, 769917.86419241])"
      ]
     },
     "execution_count": 70,
     "metadata": {},
     "output_type": "execute_result"
    }
   ],
   "source": [
    "#we use this according to the dataset\n",
    "predictionfuture2 = ar_model.predict(start=len(X2)+1, end=len(X2)+len(X3), dynamic=False)\n",
    "predictionfuture2"
   ]
  },
  {
   "cell_type": "code",
   "execution_count": 71,
   "id": "92c4c26f",
   "metadata": {},
   "outputs": [
    {
     "data": {
      "text/html": [
       "<div>\n",
       "<style scoped>\n",
       "    .dataframe tbody tr th:only-of-type {\n",
       "        vertical-align: middle;\n",
       "    }\n",
       "\n",
       "    .dataframe tbody tr th {\n",
       "        vertical-align: top;\n",
       "    }\n",
       "\n",
       "    .dataframe thead th {\n",
       "        text-align: right;\n",
       "    }\n",
       "</style>\n",
       "<table border=\"1\" class=\"dataframe\">\n",
       "  <thead>\n",
       "    <tr style=\"text-align: right;\">\n",
       "      <th></th>\n",
       "      <th>Date</th>\n",
       "      <th>sales</th>\n",
       "    </tr>\n",
       "  </thead>\n",
       "  <tbody>\n",
       "    <tr>\n",
       "      <th>0</th>\n",
       "      <td>2017-08-16</td>\n",
       "      <td>738185.016940</td>\n",
       "    </tr>\n",
       "    <tr>\n",
       "      <th>1</th>\n",
       "      <td>2017-08-17</td>\n",
       "      <td>787311.017177</td>\n",
       "    </tr>\n",
       "    <tr>\n",
       "      <th>2</th>\n",
       "      <td>2017-08-18</td>\n",
       "      <td>959812.479207</td>\n",
       "    </tr>\n",
       "    <tr>\n",
       "      <th>3</th>\n",
       "      <td>2017-08-19</td>\n",
       "      <td>981752.821182</td>\n",
       "    </tr>\n",
       "    <tr>\n",
       "      <th>4</th>\n",
       "      <td>2017-08-20</td>\n",
       "      <td>824691.213346</td>\n",
       "    </tr>\n",
       "    <tr>\n",
       "      <th>5</th>\n",
       "      <td>2017-08-21</td>\n",
       "      <td>782386.983855</td>\n",
       "    </tr>\n",
       "    <tr>\n",
       "      <th>6</th>\n",
       "      <td>2017-08-22</td>\n",
       "      <td>768941.574349</td>\n",
       "    </tr>\n",
       "    <tr>\n",
       "      <th>7</th>\n",
       "      <td>2017-08-23</td>\n",
       "      <td>703110.804195</td>\n",
       "    </tr>\n",
       "    <tr>\n",
       "      <th>8</th>\n",
       "      <td>2017-08-24</td>\n",
       "      <td>749228.919752</td>\n",
       "    </tr>\n",
       "    <tr>\n",
       "      <th>9</th>\n",
       "      <td>2017-08-25</td>\n",
       "      <td>930796.848877</td>\n",
       "    </tr>\n",
       "    <tr>\n",
       "      <th>10</th>\n",
       "      <td>2017-08-26</td>\n",
       "      <td>960637.933315</td>\n",
       "    </tr>\n",
       "    <tr>\n",
       "      <th>11</th>\n",
       "      <td>2017-08-27</td>\n",
       "      <td>826543.246276</td>\n",
       "    </tr>\n",
       "    <tr>\n",
       "      <th>12</th>\n",
       "      <td>2017-08-28</td>\n",
       "      <td>796209.979285</td>\n",
       "    </tr>\n",
       "    <tr>\n",
       "      <th>13</th>\n",
       "      <td>2017-08-29</td>\n",
       "      <td>788056.329871</td>\n",
       "    </tr>\n",
       "    <tr>\n",
       "      <th>14</th>\n",
       "      <td>2017-08-30</td>\n",
       "      <td>725992.225711</td>\n",
       "    </tr>\n",
       "    <tr>\n",
       "      <th>15</th>\n",
       "      <td>2017-08-31</td>\n",
       "      <td>769917.864192</td>\n",
       "    </tr>\n",
       "  </tbody>\n",
       "</table>\n",
       "</div>"
      ],
      "text/plain": [
       "          Date          sales\n",
       "0   2017-08-16  738185.016940\n",
       "1   2017-08-17  787311.017177\n",
       "2   2017-08-18  959812.479207\n",
       "3   2017-08-19  981752.821182\n",
       "4   2017-08-20  824691.213346\n",
       "5   2017-08-21  782386.983855\n",
       "6   2017-08-22  768941.574349\n",
       "7   2017-08-23  703110.804195\n",
       "8   2017-08-24  749228.919752\n",
       "9   2017-08-25  930796.848877\n",
       "10  2017-08-26  960637.933315\n",
       "11  2017-08-27  826543.246276\n",
       "12  2017-08-28  796209.979285\n",
       "13  2017-08-29  788056.329871\n",
       "14  2017-08-30  725992.225711\n",
       "15  2017-08-31  769917.864192"
      ]
     },
     "execution_count": 71,
     "metadata": {},
     "output_type": "execute_result"
    }
   ],
   "source": [
    "#adding our predicted to a dataframe\n",
    "future_predict = pd.DataFrame()\n",
    "future_predict['Date'] = test3.index\n",
    "future_predict['sales'] = predictionfuture2\n",
    "future_predict"
   ]
  },
  {
   "cell_type": "markdown",
   "id": "1a09b10a",
   "metadata": {},
   "source": [
    "### MODEL 3"
   ]
  },
  {
   "cell_type": "markdown",
   "id": "2b341d9f",
   "metadata": {},
   "source": [
    "#### ARIMA MODEL"
   ]
  },
  {
   "cell_type": "code",
   "execution_count": 72,
   "id": "193c0c27",
   "metadata": {
    "collapsed": true
   },
   "outputs": [
    {
     "name": "stdout",
     "output_type": "stream",
     "text": [
      "Requirement already satisfied: pmdarima in /opt/anaconda3/lib/python3.9/site-packages (2.0.2)\n",
      "Requirement already satisfied: statsmodels>=0.13.2 in /opt/anaconda3/lib/python3.9/site-packages (from pmdarima) (0.13.2)\n",
      "Requirement already satisfied: numpy>=1.21.2 in /opt/anaconda3/lib/python3.9/site-packages (from pmdarima) (1.21.5)\n",
      "Requirement already satisfied: Cython!=0.29.18,!=0.29.31,>=0.29 in /opt/anaconda3/lib/python3.9/site-packages (from pmdarima) (0.29.28)\n",
      "Requirement already satisfied: scikit-learn>=0.22 in /opt/anaconda3/lib/python3.9/site-packages (from pmdarima) (1.0.2)\n",
      "Requirement already satisfied: scipy>=1.3.2 in /opt/anaconda3/lib/python3.9/site-packages (from pmdarima) (1.7.3)\n",
      "Requirement already satisfied: setuptools!=50.0.0,>=38.6.0 in /opt/anaconda3/lib/python3.9/site-packages (from pmdarima) (61.2.0)\n",
      "Requirement already satisfied: urllib3 in /opt/anaconda3/lib/python3.9/site-packages (from pmdarima) (1.26.9)\n",
      "Requirement already satisfied: joblib>=0.11 in /opt/anaconda3/lib/python3.9/site-packages (from pmdarima) (1.1.0)\n",
      "Requirement already satisfied: pandas>=0.19 in /opt/anaconda3/lib/python3.9/site-packages (from pmdarima) (1.4.2)\n",
      "Requirement already satisfied: python-dateutil>=2.8.1 in /opt/anaconda3/lib/python3.9/site-packages (from pandas>=0.19->pmdarima) (2.8.2)\n",
      "Requirement already satisfied: pytz>=2020.1 in /opt/anaconda3/lib/python3.9/site-packages (from pandas>=0.19->pmdarima) (2021.3)\n",
      "Requirement already satisfied: six>=1.5 in /opt/anaconda3/lib/python3.9/site-packages (from python-dateutil>=2.8.1->pandas>=0.19->pmdarima) (1.16.0)\n",
      "Requirement already satisfied: threadpoolctl>=2.0.0 in /opt/anaconda3/lib/python3.9/site-packages (from scikit-learn>=0.22->pmdarima) (2.2.0)\n",
      "Requirement already satisfied: patsy>=0.5.2 in /opt/anaconda3/lib/python3.9/site-packages (from statsmodels>=0.13.2->pmdarima) (0.5.2)\n",
      "Requirement already satisfied: packaging>=21.3 in /opt/anaconda3/lib/python3.9/site-packages (from statsmodels>=0.13.2->pmdarima) (21.3)\n",
      "Requirement already satisfied: pyparsing!=3.0.5,>=2.0.2 in /opt/anaconda3/lib/python3.9/site-packages (from packaging>=21.3->statsmodels>=0.13.2->pmdarima) (3.0.4)\n",
      "Note: you may need to restart the kernel to use updated packages.\n"
     ]
    }
   ],
   "source": [
    "pip install pmdarima"
   ]
  },
  {
   "cell_type": "markdown",
   "id": "eb0cec5e",
   "metadata": {},
   "source": [
    "- Arima model is divied into three parts\n",
    "- Autoregressive Integrated Moving Average (ARIMA)\n",
    "- AR will use past values to make prediction\n",
    "- MA will use past errors to make prediction\n",
    "- Integrated is simply differencing the values"
   ]
  },
  {
   "cell_type": "code",
   "execution_count": 83,
   "id": "99fb187d",
   "metadata": {},
   "outputs": [],
   "source": [
    "#importing libraries\n",
    "from pmdarima import auto_arima"
   ]
  },
  {
   "cell_type": "code",
   "execution_count": 81,
   "id": "3a693e1a",
   "metadata": {
    "scrolled": true
   },
   "outputs": [
    {
     "name": "stdout",
     "output_type": "stream",
     "text": [
      "Performing stepwise search to minimize aic\n",
      " ARIMA(2,1,2)(0,0,0)[0] intercept   : AIC=44475.196, Time=0.52 sec\n",
      " ARIMA(0,1,0)(0,0,0)[0] intercept   : AIC=45112.104, Time=0.03 sec\n",
      " ARIMA(1,1,0)(0,0,0)[0] intercept   : AIC=45107.542, Time=0.06 sec\n"
     ]
    },
    {
     "name": "stderr",
     "output_type": "stream",
     "text": [
      "/opt/anaconda3/lib/python3.9/site-packages/statsmodels/tsa/statespace/sarimax.py:1899: RuntimeWarning: invalid value encountered in reciprocal\n",
      "  return np.roots(self.polynomial_reduced_ar)**-1\n",
      "/opt/anaconda3/lib/python3.9/site-packages/statsmodels/tsa/statespace/sarimax.py:1906: RuntimeWarning: invalid value encountered in reciprocal\n",
      "  return np.roots(self.polynomial_reduced_ma)**-1\n"
     ]
    },
    {
     "name": "stdout",
     "output_type": "stream",
     "text": [
      " ARIMA(0,1,1)(0,0,0)[0] intercept   : AIC=44940.423, Time=0.17 sec\n",
      " ARIMA(0,1,0)(0,0,0)[0]             : AIC=45110.118, Time=0.03 sec\n"
     ]
    },
    {
     "name": "stderr",
     "output_type": "stream",
     "text": [
      "/opt/anaconda3/lib/python3.9/site-packages/statsmodels/tsa/statespace/sarimax.py:1899: RuntimeWarning: invalid value encountered in reciprocal\n",
      "  return np.roots(self.polynomial_reduced_ar)**-1\n"
     ]
    },
    {
     "name": "stdout",
     "output_type": "stream",
     "text": [
      " ARIMA(1,1,2)(0,0,0)[0] intercept   : AIC=44486.173, Time=0.28 sec\n"
     ]
    },
    {
     "name": "stderr",
     "output_type": "stream",
     "text": [
      "/opt/anaconda3/lib/python3.9/site-packages/statsmodels/tsa/statespace/sarimax.py:1906: RuntimeWarning: invalid value encountered in reciprocal\n",
      "  return np.roots(self.polynomial_reduced_ma)**-1\n"
     ]
    },
    {
     "name": "stdout",
     "output_type": "stream",
     "text": [
      " ARIMA(2,1,1)(0,0,0)[0] intercept   : AIC=44489.092, Time=0.33 sec\n",
      " ARIMA(3,1,2)(0,0,0)[0] intercept   : AIC=44491.510, Time=0.67 sec\n",
      " ARIMA(2,1,3)(0,0,0)[0] intercept   : AIC=44428.429, Time=0.74 sec\n"
     ]
    },
    {
     "name": "stderr",
     "output_type": "stream",
     "text": [
      "/opt/anaconda3/lib/python3.9/site-packages/statsmodels/tsa/statespace/sarimax.py:1899: RuntimeWarning: invalid value encountered in reciprocal\n",
      "  return np.roots(self.polynomial_reduced_ar)**-1\n"
     ]
    },
    {
     "name": "stdout",
     "output_type": "stream",
     "text": [
      " ARIMA(1,1,3)(0,0,0)[0] intercept   : AIC=44505.340, Time=0.67 sec\n",
      " ARIMA(3,1,3)(0,0,0)[0] intercept   : AIC=44104.278, Time=1.84 sec\n",
      " ARIMA(4,1,3)(0,0,0)[0] intercept   : AIC=43866.588, Time=2.30 sec\n",
      " ARIMA(4,1,2)(0,0,0)[0] intercept   : AIC=43907.623, Time=2.10 sec\n",
      " ARIMA(5,1,3)(0,0,0)[0] intercept   : AIC=43822.640, Time=2.34 sec\n",
      " ARIMA(5,1,2)(0,0,0)[0] intercept   : AIC=43832.821, Time=2.23 sec\n",
      " ARIMA(5,1,4)(0,0,0)[0] intercept   : AIC=43697.987, Time=2.42 sec\n",
      " ARIMA(4,1,4)(0,0,0)[0] intercept   : AIC=43855.853, Time=1.84 sec\n",
      " ARIMA(5,1,5)(0,0,0)[0] intercept   : AIC=43562.950, Time=2.61 sec\n",
      " ARIMA(4,1,5)(0,0,0)[0] intercept   : AIC=43626.247, Time=2.71 sec\n",
      " ARIMA(5,1,5)(0,0,0)[0]             : AIC=43561.449, Time=2.48 sec\n",
      " ARIMA(4,1,5)(0,0,0)[0]             : AIC=43624.338, Time=2.65 sec\n",
      " ARIMA(5,1,4)(0,0,0)[0]             : AIC=43696.042, Time=2.50 sec\n",
      " ARIMA(4,1,4)(0,0,0)[0]             : AIC=43853.912, Time=1.59 sec\n",
      "\n",
      "Best model:  ARIMA(5,1,5)(0,0,0)[0]          \n",
      "Total fit time: 33.115 seconds\n"
     ]
    }
   ],
   "source": [
    "#note this line will take time to run\n",
    "stepwise_fit = auto_arima(df2.sales, trace = True, suppress_warnings = True)"
   ]
  },
  {
   "cell_type": "code",
   "execution_count": 82,
   "id": "91fa4687",
   "metadata": {},
   "outputs": [
    {
     "data": {
      "text/html": [
       "<table class=\"simpletable\">\n",
       "<caption>SARIMAX Results</caption>\n",
       "<tr>\n",
       "  <th>Dep. Variable:</th>           <td>y</td>        <th>  No. Observations:  </th>    <td>1684</td>   \n",
       "</tr>\n",
       "<tr>\n",
       "  <th>Model:</th>           <td>SARIMAX(5, 1, 5)</td> <th>  Log Likelihood     </th> <td>-21769.724</td>\n",
       "</tr>\n",
       "<tr>\n",
       "  <th>Date:</th>            <td>Tue, 13 Dec 2022</td> <th>  AIC                </th>  <td>43561.449</td>\n",
       "</tr>\n",
       "<tr>\n",
       "  <th>Time:</th>                <td>09:28:17</td>     <th>  BIC                </th>  <td>43621.160</td>\n",
       "</tr>\n",
       "<tr>\n",
       "  <th>Sample:</th>                  <td>0</td>        <th>  HQIC               </th>  <td>43583.565</td>\n",
       "</tr>\n",
       "<tr>\n",
       "  <th></th>                      <td> - 1684</td>     <th>                     </th>      <td> </td>    \n",
       "</tr>\n",
       "<tr>\n",
       "  <th>Covariance Type:</th>        <td>opg</td>       <th>                     </th>      <td> </td>    \n",
       "</tr>\n",
       "</table>\n",
       "<table class=\"simpletable\">\n",
       "<tr>\n",
       "     <td></td>       <th>coef</th>     <th>std err</th>      <th>z</th>      <th>P>|z|</th>  <th>[0.025</th>    <th>0.975]</th>  \n",
       "</tr>\n",
       "<tr>\n",
       "  <th>ar.L1</th>  <td>    1.0044</td> <td>    0.040</td> <td>   24.883</td> <td> 0.000</td> <td>    0.925</td> <td>    1.083</td>\n",
       "</tr>\n",
       "<tr>\n",
       "  <th>ar.L2</th>  <td>   -1.6036</td> <td>    0.033</td> <td>  -48.790</td> <td> 0.000</td> <td>   -1.668</td> <td>   -1.539</td>\n",
       "</tr>\n",
       "<tr>\n",
       "  <th>ar.L3</th>  <td>    1.0974</td> <td>    0.058</td> <td>   19.082</td> <td> 0.000</td> <td>    0.985</td> <td>    1.210</td>\n",
       "</tr>\n",
       "<tr>\n",
       "  <th>ar.L4</th>  <td>   -1.1653</td> <td>    0.032</td> <td>  -36.503</td> <td> 0.000</td> <td>   -1.228</td> <td>   -1.103</td>\n",
       "</tr>\n",
       "<tr>\n",
       "  <th>ar.L5</th>  <td>    0.2133</td> <td>    0.039</td> <td>    5.422</td> <td> 0.000</td> <td>    0.136</td> <td>    0.290</td>\n",
       "</tr>\n",
       "<tr>\n",
       "  <th>ma.L1</th>  <td>   -1.5159</td> <td>    0.036</td> <td>  -41.551</td> <td> 0.000</td> <td>   -1.587</td> <td>   -1.444</td>\n",
       "</tr>\n",
       "<tr>\n",
       "  <th>ma.L2</th>  <td>    1.8823</td> <td>    0.037</td> <td>   50.278</td> <td> 0.000</td> <td>    1.809</td> <td>    1.956</td>\n",
       "</tr>\n",
       "<tr>\n",
       "  <th>ma.L3</th>  <td>   -1.6941</td> <td>    0.051</td> <td>  -33.159</td> <td> 0.000</td> <td>   -1.794</td> <td>   -1.594</td>\n",
       "</tr>\n",
       "<tr>\n",
       "  <th>ma.L4</th>  <td>    1.3933</td> <td>    0.035</td> <td>   39.550</td> <td> 0.000</td> <td>    1.324</td> <td>    1.462</td>\n",
       "</tr>\n",
       "<tr>\n",
       "  <th>ma.L5</th>  <td>   -0.6823</td> <td>    0.031</td> <td>  -22.160</td> <td> 0.000</td> <td>   -0.743</td> <td>   -0.622</td>\n",
       "</tr>\n",
       "<tr>\n",
       "  <th>sigma2</th> <td> 1.263e+10</td> <td> 6.46e-12</td> <td> 1.96e+21</td> <td> 0.000</td> <td> 1.26e+10</td> <td> 1.26e+10</td>\n",
       "</tr>\n",
       "</table>\n",
       "<table class=\"simpletable\">\n",
       "<tr>\n",
       "  <th>Ljung-Box (L1) (Q):</th>     <td>0.46</td> <th>  Jarque-Bera (JB):  </th> <td>50664.98</td>\n",
       "</tr>\n",
       "<tr>\n",
       "  <th>Prob(Q):</th>                <td>0.50</td> <th>  Prob(JB):          </th>   <td>0.00</td>  \n",
       "</tr>\n",
       "<tr>\n",
       "  <th>Heteroskedasticity (H):</th> <td>2.96</td> <th>  Skew:              </th>   <td>-0.99</td> \n",
       "</tr>\n",
       "<tr>\n",
       "  <th>Prob(H) (two-sided):</th>    <td>0.00</td> <th>  Kurtosis:          </th>   <td>29.81</td> \n",
       "</tr>\n",
       "</table><br/><br/>Warnings:<br/>[1] Covariance matrix calculated using the outer product of gradients (complex-step).<br/>[2] Covariance matrix is singular or near-singular, with condition number 2.09e+37. Standard errors may be unstable."
      ],
      "text/plain": [
       "<class 'statsmodels.iolib.summary.Summary'>\n",
       "\"\"\"\n",
       "                               SARIMAX Results                                \n",
       "==============================================================================\n",
       "Dep. Variable:                      y   No. Observations:                 1684\n",
       "Model:               SARIMAX(5, 1, 5)   Log Likelihood              -21769.724\n",
       "Date:                Tue, 13 Dec 2022   AIC                          43561.449\n",
       "Time:                        09:28:17   BIC                          43621.160\n",
       "Sample:                             0   HQIC                         43583.565\n",
       "                               - 1684                                         \n",
       "Covariance Type:                  opg                                         \n",
       "==============================================================================\n",
       "                 coef    std err          z      P>|z|      [0.025      0.975]\n",
       "------------------------------------------------------------------------------\n",
       "ar.L1          1.0044      0.040     24.883      0.000       0.925       1.083\n",
       "ar.L2         -1.6036      0.033    -48.790      0.000      -1.668      -1.539\n",
       "ar.L3          1.0974      0.058     19.082      0.000       0.985       1.210\n",
       "ar.L4         -1.1653      0.032    -36.503      0.000      -1.228      -1.103\n",
       "ar.L5          0.2133      0.039      5.422      0.000       0.136       0.290\n",
       "ma.L1         -1.5159      0.036    -41.551      0.000      -1.587      -1.444\n",
       "ma.L2          1.8823      0.037     50.278      0.000       1.809       1.956\n",
       "ma.L3         -1.6941      0.051    -33.159      0.000      -1.794      -1.594\n",
       "ma.L4          1.3933      0.035     39.550      0.000       1.324       1.462\n",
       "ma.L5         -0.6823      0.031    -22.160      0.000      -0.743      -0.622\n",
       "sigma2      1.263e+10   6.46e-12   1.96e+21      0.000    1.26e+10    1.26e+10\n",
       "===================================================================================\n",
       "Ljung-Box (L1) (Q):                   0.46   Jarque-Bera (JB):             50664.98\n",
       "Prob(Q):                              0.50   Prob(JB):                         0.00\n",
       "Heteroskedasticity (H):               2.96   Skew:                            -0.99\n",
       "Prob(H) (two-sided):                  0.00   Kurtosis:                        29.81\n",
       "===================================================================================\n",
       "\n",
       "Warnings:\n",
       "[1] Covariance matrix calculated using the outer product of gradients (complex-step).\n",
       "[2] Covariance matrix is singular or near-singular, with condition number 2.09e+37. Standard errors may be unstable.\n",
       "\"\"\""
      ]
     },
     "execution_count": 82,
     "metadata": {},
     "output_type": "execute_result"
    }
   ],
   "source": [
    "stepwise_fit.summary()"
   ]
  },
  {
   "cell_type": "markdown",
   "id": "fcb7c488",
   "metadata": {},
   "source": [
    "- The AIC: Akaike Information Criteria is an estimator of prediction error which measures a statistical model \n",
    "- In order to quantify the goodness of fit of the model. While comparing two models, the smaller the AIC value,the better the time series model.\n",
    "- The model with the lower AIC score is expected to strike a superior balance between its ability to fit the data set and its ability to avoid over-fitting the data set."
   ]
  },
  {
   "cell_type": "code",
   "execution_count": 94,
   "id": "bb669d9c",
   "metadata": {
    "scrolled": true
   },
   "outputs": [
    {
     "name": "stdout",
     "output_type": "stream",
     "text": [
      "(1684, 1)\n",
      "(1654, 1) (30, 1)\n"
     ]
    }
   ],
   "source": [
    "df4 = df3.values\n",
    "print(df4.shape)\n",
    "arimatrain = df4[:len(df4)-30]\n",
    "arimatest=df4[len(df4)-30:]\n",
    "print(arimatrain.shape,arimatest.shape)"
   ]
  },
  {
   "cell_type": "code",
   "execution_count": 102,
   "id": "3276e506",
   "metadata": {
    "scrolled": true
   },
   "outputs": [
    {
     "name": "stderr",
     "output_type": "stream",
     "text": [
      "/opt/anaconda3/lib/python3.9/site-packages/statsmodels/base/model.py:604: ConvergenceWarning: Maximum Likelihood optimization failed to converge. Check mle_retvals\n",
      "  warnings.warn(\"Maximum Likelihood optimization failed to \"\n"
     ]
    },
    {
     "data": {
      "text/html": [
       "<table class=\"simpletable\">\n",
       "<caption>SARIMAX Results</caption>\n",
       "<tr>\n",
       "  <th>Dep. Variable:</th>           <td>y</td>        <th>  No. Observations:  </th>    <td>1654</td>   \n",
       "</tr>\n",
       "<tr>\n",
       "  <th>Model:</th>            <td>ARIMA(5, 1, 5)</td>  <th>  Log Likelihood     </th> <td>-21392.157</td>\n",
       "</tr>\n",
       "<tr>\n",
       "  <th>Date:</th>            <td>Tue, 13 Dec 2022</td> <th>  AIC                </th>  <td>42806.314</td>\n",
       "</tr>\n",
       "<tr>\n",
       "  <th>Time:</th>                <td>09:54:52</td>     <th>  BIC                </th>  <td>42865.828</td>\n",
       "</tr>\n",
       "<tr>\n",
       "  <th>Sample:</th>                  <td>0</td>        <th>  HQIC               </th>  <td>42828.378</td>\n",
       "</tr>\n",
       "<tr>\n",
       "  <th></th>                      <td> - 1654</td>     <th>                     </th>      <td> </td>    \n",
       "</tr>\n",
       "<tr>\n",
       "  <th>Covariance Type:</th>        <td>opg</td>       <th>                     </th>      <td> </td>    \n",
       "</tr>\n",
       "</table>\n",
       "<table class=\"simpletable\">\n",
       "<tr>\n",
       "     <td></td>       <th>coef</th>     <th>std err</th>      <th>z</th>      <th>P>|z|</th>  <th>[0.025</th>    <th>0.975]</th>  \n",
       "</tr>\n",
       "<tr>\n",
       "  <th>ar.L1</th>  <td>    1.0442</td> <td>    0.033</td> <td>   31.526</td> <td> 0.000</td> <td>    0.979</td> <td>    1.109</td>\n",
       "</tr>\n",
       "<tr>\n",
       "  <th>ar.L2</th>  <td>   -1.6364</td> <td>    0.028</td> <td>  -57.963</td> <td> 0.000</td> <td>   -1.692</td> <td>   -1.581</td>\n",
       "</tr>\n",
       "<tr>\n",
       "  <th>ar.L3</th>  <td>    1.1579</td> <td>    0.047</td> <td>   24.606</td> <td> 0.000</td> <td>    1.066</td> <td>    1.250</td>\n",
       "</tr>\n",
       "<tr>\n",
       "  <th>ar.L4</th>  <td>   -1.1905</td> <td>    0.027</td> <td>  -44.097</td> <td> 0.000</td> <td>   -1.243</td> <td>   -1.138</td>\n",
       "</tr>\n",
       "<tr>\n",
       "  <th>ar.L5</th>  <td>    0.2506</td> <td>    0.032</td> <td>    7.819</td> <td> 0.000</td> <td>    0.188</td> <td>    0.313</td>\n",
       "</tr>\n",
       "<tr>\n",
       "  <th>ma.L1</th>  <td>   -1.5776</td> <td>    0.029</td> <td>  -53.882</td> <td> 0.000</td> <td>   -1.635</td> <td>   -1.520</td>\n",
       "</tr>\n",
       "<tr>\n",
       "  <th>ma.L2</th>  <td>    1.9283</td> <td>    0.037</td> <td>   51.641</td> <td> 0.000</td> <td>    1.855</td> <td>    2.001</td>\n",
       "</tr>\n",
       "<tr>\n",
       "  <th>ma.L3</th>  <td>   -1.7423</td> <td>    0.045</td> <td>  -38.328</td> <td> 0.000</td> <td>   -1.831</td> <td>   -1.653</td>\n",
       "</tr>\n",
       "<tr>\n",
       "  <th>ma.L4</th>  <td>    1.3803</td> <td>    0.033</td> <td>   41.233</td> <td> 0.000</td> <td>    1.315</td> <td>    1.446</td>\n",
       "</tr>\n",
       "<tr>\n",
       "  <th>ma.L5</th>  <td>   -0.7073</td> <td>    0.025</td> <td>  -28.171</td> <td> 0.000</td> <td>   -0.757</td> <td>   -0.658</td>\n",
       "</tr>\n",
       "<tr>\n",
       "  <th>sigma2</th> <td> 1.267e+10</td> <td> 1.02e-11</td> <td> 1.24e+21</td> <td> 0.000</td> <td> 1.27e+10</td> <td> 1.27e+10</td>\n",
       "</tr>\n",
       "</table>\n",
       "<table class=\"simpletable\">\n",
       "<tr>\n",
       "  <th>Ljung-Box (L1) (Q):</th>     <td>0.08</td> <th>  Jarque-Bera (JB):  </th> <td>43987.11</td>\n",
       "</tr>\n",
       "<tr>\n",
       "  <th>Prob(Q):</th>                <td>0.77</td> <th>  Prob(JB):          </th>   <td>0.00</td>  \n",
       "</tr>\n",
       "<tr>\n",
       "  <th>Heteroskedasticity (H):</th> <td>2.91</td> <th>  Skew:              </th>   <td>-0.98</td> \n",
       "</tr>\n",
       "<tr>\n",
       "  <th>Prob(H) (two-sided):</th>    <td>0.00</td> <th>  Kurtosis:          </th>   <td>28.20</td> \n",
       "</tr>\n",
       "</table><br/><br/>Warnings:<br/>[1] Covariance matrix calculated using the outer product of gradients (complex-step).<br/>[2] Covariance matrix is singular or near-singular, with condition number 1.13e+36. Standard errors may be unstable."
      ],
      "text/plain": [
       "<class 'statsmodels.iolib.summary.Summary'>\n",
       "\"\"\"\n",
       "                               SARIMAX Results                                \n",
       "==============================================================================\n",
       "Dep. Variable:                      y   No. Observations:                 1654\n",
       "Model:                 ARIMA(5, 1, 5)   Log Likelihood              -21392.157\n",
       "Date:                Tue, 13 Dec 2022   AIC                          42806.314\n",
       "Time:                        09:54:52   BIC                          42865.828\n",
       "Sample:                             0   HQIC                         42828.378\n",
       "                               - 1654                                         \n",
       "Covariance Type:                  opg                                         \n",
       "==============================================================================\n",
       "                 coef    std err          z      P>|z|      [0.025      0.975]\n",
       "------------------------------------------------------------------------------\n",
       "ar.L1          1.0442      0.033     31.526      0.000       0.979       1.109\n",
       "ar.L2         -1.6364      0.028    -57.963      0.000      -1.692      -1.581\n",
       "ar.L3          1.1579      0.047     24.606      0.000       1.066       1.250\n",
       "ar.L4         -1.1905      0.027    -44.097      0.000      -1.243      -1.138\n",
       "ar.L5          0.2506      0.032      7.819      0.000       0.188       0.313\n",
       "ma.L1         -1.5776      0.029    -53.882      0.000      -1.635      -1.520\n",
       "ma.L2          1.9283      0.037     51.641      0.000       1.855       2.001\n",
       "ma.L3         -1.7423      0.045    -38.328      0.000      -1.831      -1.653\n",
       "ma.L4          1.3803      0.033     41.233      0.000       1.315       1.446\n",
       "ma.L5         -0.7073      0.025    -28.171      0.000      -0.757      -0.658\n",
       "sigma2      1.267e+10   1.02e-11   1.24e+21      0.000    1.27e+10    1.27e+10\n",
       "===================================================================================\n",
       "Ljung-Box (L1) (Q):                   0.08   Jarque-Bera (JB):             43987.11\n",
       "Prob(Q):                              0.77   Prob(JB):                         0.00\n",
       "Heteroskedasticity (H):               2.91   Skew:                            -0.98\n",
       "Prob(H) (two-sided):                  0.00   Kurtosis:                        28.20\n",
       "===================================================================================\n",
       "\n",
       "Warnings:\n",
       "[1] Covariance matrix calculated using the outer product of gradients (complex-step).\n",
       "[2] Covariance matrix is singular or near-singular, with condition number 1.13e+36. Standard errors may be unstable.\n",
       "\"\"\""
      ]
     },
     "execution_count": 102,
     "metadata": {},
     "output_type": "execute_result"
    }
   ],
   "source": [
    "from statsmodels.tsa.arima.model import ARIMA\n",
    "arimamodel=ARIMA(arimatrain,order=(5,1,5))\n",
    "arimamodel=arimamodel.fit()\n",
    "arimamodel.summary()"
   ]
  },
  {
   "cell_type": "code",
   "execution_count": 107,
   "id": "9c8718dd",
   "metadata": {
    "scrolled": false
   },
   "outputs": [
    {
     "data": {
      "text/plain": [
       "<AxesSubplot:>"
      ]
     },
     "execution_count": 107,
     "metadata": {},
     "output_type": "execute_result"
    },
    {
     "data": {
      "image/png": "[encoded data removed]",
      "text/plain": [
       "<Figure size 432x288 with 1 Axes>"
      ]
     },
     "metadata": {
      "needs_background": "light"
     },
     "output_type": "display_data"
    },
    {
     "data": {
      "image/png": "[encoded data removed]",
      "text/plain": [
       "<Figure size 432x288 with 1 Axes>"
      ]
     },
     "metadata": {
      "needs_background": "light"
     },
     "output_type": "display_data"
    }
   ],
   "source": [
    "#predicitng\n",
    "\n",
    "start=len(arimatrain)\n",
    "end=len(arimatrain)+len(arimatest)-1\n",
    "arima_pred=arimamodel.predict(start=start,end=end,typ='levels')\n",
    "arima_pred = pd.DataFrame(arima_pred)\n",
    "arima_pred.plot(legend=True)\n",
    "arima_true.plot(legend=True)"
   ]
  },
  {
   "cell_type": "code",
   "execution_count": 110,
   "id": "e2ab68bf",
   "metadata": {},
   "outputs": [
    {
     "data": {
      "text/plain": [
       "86503.97579604412"
      ]
     },
     "execution_count": 110,
     "metadata": {},
     "output_type": "execute_result"
    }
   ],
   "source": [
    "#ROOT MEAN SQUARE\n",
    "mean_squared_error(arima_pred,arima_true, squared = False)"
   ]
  },
  {
   "cell_type": "code",
   "execution_count": 111,
   "id": "e09b0e00",
   "metadata": {
    "scrolled": true
   },
   "outputs": [
    {
     "data": {
      "text/plain": [
       "0.00976594390536309"
      ]
     },
     "execution_count": 111,
     "metadata": {},
     "output_type": "execute_result"
    }
   ],
   "source": [
    "#MEAN SQUARED LOG ERROR\n",
    "mean_squared_log_error(arima_pred,arima_true)"
   ]
  },
  {
   "cell_type": "markdown",
   "id": "ac749cc7",
   "metadata": {},
   "source": [
    "#### CONCLUSION\n",
    "- The Arima model is a better fit, although more work needs to be done."
   ]
  },
  {
   "cell_type": "markdown",
   "id": "a1bdfd46",
   "metadata": {},
   "source": [
    "### MODEL 4"
   ]
  },
  {
   "cell_type": "markdown",
   "id": "ec18f4df",
   "metadata": {},
   "source": [
    "#### SARIMAX"
   ]
  }
 ],
 "metadata": {
  "kernelspec": {
   "display_name": "Python 3 (ipykernel)",
   "language": "python",
   "name": "python3"
  },
  "language_info": {
   "codemirror_mode": {
    "name": "ipython",
    "version": 3
   },
   "file_extension": ".py",
   "mimetype": "text/x-python",
   "name": "python",
   "nbconvert_exporter": "python",
   "pygments_lexer": "ipython3",
   "version": "3.9.12"
  }
 },
 "nbformat": 4,
 "nbformat_minor": 5
}
